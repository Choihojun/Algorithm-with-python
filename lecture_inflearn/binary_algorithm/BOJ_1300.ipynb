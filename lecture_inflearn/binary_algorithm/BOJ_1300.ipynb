{
 "cells": [
  {
   "cell_type": "code",
   "execution_count": null,
   "metadata": {},
   "outputs": [],
   "source": [
    "#Link: https://www.acmicpc.net/problem/1300\n",
    "\n",
    "# 이분 탐색, 매개변수 탐색\n",
    "\n",
    "# K번째 수\n",
    "# 세준이는 크기가 N×N인 배열 A를 만들었다. 배열에 들어있는 수 A[i][j] = i×j 이다. 이 수를 일차원 배열 B에 넣으면 B의 크기는 N×N이 된다. B를 오름차순 정렬했을 때, B[k]를 구해보자.\n",
    "\n",
    "# 배열 A와 B의 인덱스는 1부터 시작한다."
   ]
  },
  {
   "cell_type": "code",
   "execution_count": 12,
   "metadata": {},
   "outputs": [
    {
     "name": "stdout",
     "output_type": "stream",
     "text": [
      "[1, 2, 2, 3, 3, 4, 4, 4, 6, 6, 8, 8, 9, 12, 12, 16]\n",
      "4\n"
     ]
    }
   ],
   "source": [
    "# 내가 쓴 코드\n",
    "\n",
    "N = int(input())\n",
    "index = int(input())\n",
    "A = [[0 for j in range(N)] for i in range(N)]\n",
    "#print(A)\n",
    "for i in range(N):\n",
    "    for j in range(N):\n",
    "        A[i][j] = (i+1) * (j+1)\n",
    "\n",
    "# 오름차순 정렬 -> 2차원 배열은 sort가 안먹힘\n",
    "B = sum(A, [])\n",
    "B.sort()\n",
    "print(B)\n",
    "\n",
    "print(B[index])"
   ]
  },
  {
   "cell_type": "code",
   "execution_count": 30,
   "metadata": {},
   "outputs": [
    {
     "name": "stdout",
     "output_type": "stream",
     "text": [
      "6\n"
     ]
    }
   ],
   "source": [
    "# 나의 접근법 2 (강의듣고 혼자 코딩) -> 시간초과 (for문을 줄이는게 핵심임)\n",
    "\n",
    "# N = 3\n",
    "# K = 7\n",
    "# 내가 접근한 방법의 틀린점: 복잡도 N^2에 의해서 N = 10의 10승이 됨\n",
    "\n",
    "# 효율적으로 계산하는 방법\n",
    "# 만약 X가 어떤 배열에서 k번째로 작은 수라면 k-1개가 있음\n",
    "# X보다 큰수가 N-k개 있다는 것\n",
    "\n",
    "N = int(input())\n",
    "index = int(input())\n",
    "\n",
    "# 여기서 비교되는 수 계산하기\n",
    "number_of_smaller = index - 1\n",
    "number_of_biggger = N * N - index\n",
    "target_index = 0\n",
    "# 행에서 적절한 성분들이 있는지 없는지 셈하는 함수\n",
    "def cal_number_of_including(N : int, target_index: int):\n",
    "    \n",
    "    bigger_temp = 0\n",
    "    smaller_temp = 0\n",
    "    pass_big = 0\n",
    "    pass_small = 0\n",
    "    for i in range(N):\n",
    "        for j in range(N):\n",
    "            if (i+1)*(j+1) > target_index:\n",
    "                bigger_temp += 1\n",
    "            if (i+1)*(j+1) < target_index:\n",
    "                smaller_temp += 1\n",
    "    if number_of_biggger >= bigger_temp:\n",
    "        pass_big = 1\n",
    "    if number_of_smaller >= smaller_temp:\n",
    "        pass_small = 1\n",
    "    return pass_big, pass_small, target_index\n",
    "\n",
    "def cal_bigger_num(x: int)-> int:\n",
    "    bigger_num = 0\n",
    "    for i in range(1, N+1):\n",
    "        bigger_num += N - min(N, x//i) \n",
    "    \n",
    "    return bigger_num\n",
    "    \n",
    "    \n",
    "def cal_smaller_num(x: int) -> int:\n",
    "    smaller_num = 0\n",
    "    for i in range(1, N+1):\n",
    "        smaller_num += min(N, (x-1)//i)\n",
    "    return smaller_num\n",
    "\n",
    "low = 1\n",
    "high = N*N\n",
    "\n",
    "while low <= high:\n",
    "    mid = int((low + high)/2)    \n",
    "    \"\"\"\n",
    "    pass_big, pass_small, target_index = cal_number_of_including(N, mid)\n",
    "    # 둘다 True일때 성공\n",
    "    if pass_big == True and pass_small == True:\n",
    "        break\n",
    "    # pass_small이 틀렸을때 -> 값을 내려야함\n",
    "    elif pass_big == True and pass_small == False:\n",
    "        high = mid - 1\n",
    "    # pass_big이 틀렸을때 -> 값을 올려야함\n",
    "    elif pass_big == False and pass_small == True:\n",
    "        low = mid + 1\n",
    "    \"\"\" \n",
    "    bigger_num = cal_bigger_num(mid)\n",
    "    smaller_num = cal_smaller_num(mid)\n",
    "    \n",
    "    if smaller_num > index-1:\n",
    "        high = mid - 1\n",
    "    \n",
    "    elif bigger_num > N * N - index:\n",
    "        low = mid + 1\n",
    "    \n",
    "    else:\n",
    "        target_index = mid\n",
    "        break\n",
    "       \n",
    "       \n",
    "print(target_index)"
   ]
  },
  {
   "cell_type": "code",
   "execution_count": 27,
   "metadata": {},
   "outputs": [
    {
     "name": "stdout",
     "output_type": "stream",
     "text": [
      "6\n"
     ]
    }
   ],
   "source": [
    "n = int(input())\n",
    "k = int(input())\n",
    "\n",
    "def get_num_smaller(x: int) -> int:\n",
    "    num_smaller = 0\n",
    "    for i in range(1, n+1):\n",
    "        num_smaller += min(n, (x-1) // i)\n",
    "    return num_smaller\n",
    "\n",
    "def get_num_bigger(x: int) -> int:\n",
    "    num_bigger = 0\n",
    "    for i in range(1, n+1):\n",
    "        num_bigger += n - min(n, x//i)\n",
    "    return num_bigger\n",
    "\n",
    "low = 1\n",
    "high = min(n * n, int(1e9))\n",
    "answer = -1\n",
    "\n",
    "while low <= high:\n",
    "    mid = (low + high) // 2\n",
    "    \n",
    "    num_smaller = get_num_smaller(mid)\n",
    "    num_bigger = get_num_bigger(mid)\n",
    "    \n",
    "    if num_smaller > k -1:\n",
    "        high = mid - 1\n",
    "    elif num_bigger > n * n - k:\n",
    "        low = mid + 1\n",
    "    else:\n",
    "        answer = mid\n",
    "        break\n",
    "        \n",
    "print(answer)\n",
    "        "
   ]
  },
  {
   "cell_type": "code",
   "execution_count": null,
   "metadata": {},
   "outputs": [],
   "source": []
  }
 ],
 "metadata": {
  "kernelspec": {
   "display_name": "Python 3",
   "language": "python",
   "name": "python3"
  },
  "language_info": {
   "codemirror_mode": {
    "name": "ipython",
    "version": 3
   },
   "file_extension": ".py",
   "mimetype": "text/x-python",
   "name": "python",
   "nbconvert_exporter": "python",
   "pygments_lexer": "ipython3",
   "version": "3.11.0"
  },
  "orig_nbformat": 4
 },
 "nbformat": 4,
 "nbformat_minor": 2
}
