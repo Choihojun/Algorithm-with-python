{
 "cells": [
  {
   "cell_type": "code",
   "execution_count": null,
   "metadata": {},
   "outputs": [],
   "source": [
    "# Link: https://www.acmicpc.net/problem/2512\n",
    "\n",
    "# 예산이 485만큼 있음\n",
    "# 지방1 120, 지방2 110, 지방3 140, 지방4 150일떄\n",
    "# 상한액이 123이라면 120, 110, 123, 123 이렇게 분배가 가능 -> 476 (그러나 상한액을 최대로 쓰고 싶으므로 좀더 늘려도 됨)\n",
    "\n",
    "# 상한액이 127일때 120, 110, 127, 127로 가능\n",
    "# 상한액이 128일때 120, 110, 128, 128로 486이 넘어버림"
   ]
  },
  {
   "cell_type": "code",
   "execution_count": 18,
   "metadata": {},
   "outputs": [
    {
     "name": "stdout",
     "output_type": "stream",
     "text": [
      "0\n"
     ]
    }
   ],
   "source": [
    "# 내가 푼 문제\n",
    "\n",
    "number_city =  int(input())\n",
    "money_list = list(map(int,input().split()))\n",
    "total_money = int(input())\n",
    "sum_of_money_list = sum(money_list)\n",
    "\n",
    "start_money = int(sum_of_money_list/number_city)\n",
    "\n",
    "low = 0\n",
    "high = max(money_list)\n",
    "sum_of_money = 0\n",
    "temp = 0\n",
    "\n",
    "while low <= high:\n",
    "    \n",
    "    for i in range(number_city):\n",
    "        sum_of_money = sum_of_money + min(money_list[i], start_money)\n",
    "    \n",
    "    if sum_of_money == sum_of_money_list:\n",
    "        temp = start_money\n",
    "        break\n",
    "    \n",
    "    elif sum_of_money >= total_money: \n",
    "        break\n",
    "    \n",
    "    else:\n",
    "        temp = start_money\n",
    "        start_money = start_money + 1\n",
    "        sum_of_money = 0\n",
    "        \n",
    "    \n",
    "print(temp)"
   ]
  },
  {
   "cell_type": "code",
   "execution_count": 20,
   "metadata": {},
   "outputs": [
    {
     "name": "stdout",
     "output_type": "stream",
     "text": [
      "127\n"
     ]
    }
   ],
   "source": [
    "# 인프런 강의를 통해서 푼 코드\n",
    "\n",
    "# 상한액의 최소점은 0\n",
    "\n",
    "n = int(input())\n",
    "requests = list(map(int, input().split()))\n",
    "budget = int(input())\n",
    "\n",
    "def calculate_needed_budget(upper_bound: int) -> int:\n",
    "    needed_budget = 0\n",
    "    for request in requests:\n",
    "        needed_budget += min(request, upper_bound)\n",
    "    return needed_budget\n",
    "\n",
    "low = 0\n",
    "high = max(requests)\n",
    "good_upper_bound = -1\n",
    "\n",
    "while low <= high:\n",
    "    mid = (low+high) // 2\n",
    "    \n",
    "    if calculate_needed_budget(mid) <= budget:\n",
    "        good_upper_bound = mid\n",
    "        low = mid + 1\n",
    "    else: \n",
    "        high = mid - 1\n",
    "        \n",
    "answer = -1\n",
    "for request in requests:\n",
    "    given = min(request, good_upper_bound)\n",
    "    answer = max(answer, given)\n",
    "print(answer)"
   ]
  },
  {
   "cell_type": "code",
   "execution_count": null,
   "metadata": {},
   "outputs": [],
   "source": []
  }
 ],
 "metadata": {
  "kernelspec": {
   "display_name": "Python 3",
   "language": "python",
   "name": "python3"
  },
  "language_info": {
   "codemirror_mode": {
    "name": "ipython",
    "version": 3
   },
   "file_extension": ".py",
   "mimetype": "text/x-python",
   "name": "python",
   "nbconvert_exporter": "python",
   "pygments_lexer": "ipython3",
   "version": "3.11.0"
  },
  "orig_nbformat": 4
 },
 "nbformat": 4,
 "nbformat_minor": 2
}
