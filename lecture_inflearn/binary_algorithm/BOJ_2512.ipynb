{
 "cells": [
  {
   "cell_type": "code",
   "execution_count": null,
   "metadata": {},
   "outputs": [],
   "source": [
    "# Link: https://www.acmicpc.net/problem/2512\n",
    "\n",
    "# 예산이 485만큼 있음\n",
    "# 지방1 120, 지방2 110, 지방3 140, 지방4 150일떄\n",
    "# 상한액이 123이라면 120, 110, 123, 123 이렇게 분배가 가능 -> 476 (그러나 상한액을 최대로 쓰고 싶으므로 좀더 늘려도 됨)\n",
    "\n",
    "# 상한액이 127일때 120, 110, 127, 127로 가능\n",
    "# 상한액이 128일때 120, 110, 128, 128로 486이 넘어버림"
   ]
  },
  {
   "cell_type": "code",
   "execution_count": 16,
   "metadata": {},
   "outputs": [
    {
     "name": "stdout",
     "output_type": "stream",
     "text": [
      "127\n"
     ]
    }
   ],
   "source": [
    "number_city =  int(input())\n",
    "money_list = list(map(int,input().split()))\n",
    "\n",
    "#for i in range(number_city):\n",
    "#    money_list.append(int(input()))\n",
    "total_money = int(input())\n",
    "sum_of_money_list = sum(money_list)\n",
    "start_money = int(total_money/number_city)\n",
    "#print(start_money)\n",
    "#print(money_list)\n",
    "#print(\"---------------------\")\n",
    "sum_of_money = 0\n",
    "temp = 0\n",
    "\n",
    "while True:\n",
    "    \n",
    "    for i in range(number_city):\n",
    "        if start_money > money_list[i]:\n",
    "            sum_of_money = sum_of_money + money_list[i]\n",
    "        else:\n",
    "            sum_of_money = sum_of_money + start_money\n",
    "    \n",
    "    if sum_of_money == sum_of_money_list:\n",
    "        temp = start_money\n",
    "        break\n",
    "    \n",
    "    elif sum_of_money >= total_money:\n",
    "        break\n",
    "    \n",
    "    else:\n",
    "        temp = start_money\n",
    "        start_money = start_money + 1\n",
    "        sum_of_money = 0\n",
    "        \n",
    "    \n",
    "print(temp)"
   ]
  },
  {
   "cell_type": "code",
   "execution_count": null,
   "metadata": {},
   "outputs": [],
   "source": []
  }
 ],
 "metadata": {
  "kernelspec": {
   "display_name": "Python 3",
   "language": "python",
   "name": "python3"
  },
  "language_info": {
   "codemirror_mode": {
    "name": "ipython",
    "version": 3
   },
   "file_extension": ".py",
   "mimetype": "text/x-python",
   "name": "python",
   "nbconvert_exporter": "python",
   "pygments_lexer": "ipython3",
   "version": "3.11.0"
  },
  "orig_nbformat": 4
 },
 "nbformat": 4,
 "nbformat_minor": 2
}
