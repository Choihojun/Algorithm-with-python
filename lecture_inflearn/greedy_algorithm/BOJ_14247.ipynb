{
 "cells": [
  {
   "cell_type": "code",
   "execution_count": null,
   "metadata": {},
   "outputs": [],
   "source": [
    "# Link: https://www.acmicpc.net/problem/14247\n",
    "\n",
    "\n",
    "\n"
   ]
  },
  {
   "cell_type": "code",
   "execution_count": 17,
   "metadata": {},
   "outputs": [],
   "source": [
    "# 나만의 풀이\n",
    "\n",
    "# 각각의 List를 만든다.\n",
    "# 마지막 1, 2번째는 조합을 비교한다.\n",
    "\n",
    "#import sys\n",
    "#n = int(sys.stdin.readline())\n",
    "#H = [int(sys.stdin.readline()) for _ in range(n)]\n",
    "#A = [int(sys.stdin.readline()) for _ in range(n)]\n",
    "\n",
    "n = int(input())\n",
    "H = list(map(int, input().split()))\n",
    "A = list(map(int, input().split()))\n",
    "\n",
    "i = n\n",
    "sum_result = 0\n",
    "\n",
    "while i >= 3:\n",
    "    \n",
    "    compare_list = [(x + y * (i-1)) for x, y in zip(H, A)]\n",
    "    max_value = max(compare_list)\n",
    "    sum_result = sum_result + max_value\n",
    "    index = compare_list.index(max_value)\n",
    "    \n",
    "    H.pop(index)\n",
    "    A.pop(index)\n",
    "    \n",
    "    #print(i-1)\n",
    "    #print(\"H: \",H)\n",
    "    #print(\"A: \",A)\n",
    "    #print(\"sum of result: \", sum_result)\n",
    "    #print(\"--------------\")\n",
    "\n",
    "    i = i - 1\n",
    "    \n",
    "sum_of_0_index = sum([H[0] + H[1] + A[1]])\n",
    "sum_of_1_index = sum([H[1] + H[0] + A[0]])\n",
    "temp = [sum_of_0_index, sum_of_1_index]\n",
    "#print(temp)\n",
    "sum_result = sum_result + max(temp)\n",
    "        \n",
    "print(sum_result)"
   ]
  },
  {
   "cell_type": "code",
   "execution_count": 1,
   "metadata": {},
   "outputs": [],
   "source": [
    "# 인프런 강의\n",
    "\n",
    "# 1. 한 나무를 여러번 자르는게 손해 \n",
    "# n일 동안 n 그루의 나무\n",
    "# 모든 나무를 다 한번씩\n",
    "# 나무를 자를 순서를 정하자\n",
    "\n",
    "# 2. 나중에 팔면 좋은거 = 성장세가 높은 종목\n",
    "# 나무의 성장 속도가 빠른 애를 나중에 팔기 (A_i 순으로 정렬해서 순서대로 자르기)\n",
    "\n",
    "\n",
    "import sys\n",
    "N = int(sys.stdin.readline())\n",
    "H = list(map(int, sys.stdin.readline().split()))\n",
    "A = list(map(int, sys.stdin.readline().split()))\n",
    "I = list(range(N))\n",
    "\n",
    "I = sorted(I, key=lambda i: A[i])\n",
    "\n",
    "ans = 0\n",
    "for i in range(N):\n",
    "    index = I[i]\n",
    "    ans += H[index] + i * A[index]\n",
    "    \n",
    "print(ans)"
   ]
  },
  {
   "cell_type": "code",
   "execution_count": 3,
   "metadata": {},
   "outputs": [
    {
     "name": "stdout",
     "output_type": "stream",
     "text": [
      "[0, 1, 2, 3, 4, 5]\n",
      "[1, 5, 0, 2, 3, 4]\n"
     ]
    }
   ],
   "source": [
    "A = [4,2,5,6,7,2]\n",
    "I = list(range(6))\n",
    "print(I)\n",
    "I = sorted(I, key=lambda i: A[i])\n",
    "print(I)"
   ]
  },
  {
   "cell_type": "code",
   "execution_count": null,
   "metadata": {},
   "outputs": [],
   "source": []
  }
 ],
 "metadata": {
  "kernelspec": {
   "display_name": "Python 3",
   "language": "python",
   "name": "python3"
  },
  "language_info": {
   "codemirror_mode": {
    "name": "ipython",
    "version": 3
   },
   "file_extension": ".py",
   "mimetype": "text/x-python",
   "name": "python",
   "nbconvert_exporter": "python",
   "pygments_lexer": "ipython3",
   "version": "3.11.0"
  },
  "orig_nbformat": 4
 },
 "nbformat": 4,
 "nbformat_minor": 2
}
