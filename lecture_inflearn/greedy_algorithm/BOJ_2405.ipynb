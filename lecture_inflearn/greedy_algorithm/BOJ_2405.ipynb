{
 "cells": [
  {
   "cell_type": "code",
   "execution_count": null,
   "metadata": {},
   "outputs": [],
   "source": [
    "# https://www.acmicpc.net/problem/2405\n",
    "\n"
   ]
  },
  {
   "cell_type": "code",
   "execution_count": 4,
   "metadata": {},
   "outputs": [
    {
     "name": "stdout",
     "output_type": "stream",
     "text": [
      "349\n"
     ]
    }
   ],
   "source": [
    "import math\n",
    "n = int(input())\n",
    "num_list = []\n",
    "for i in range(n):\n",
    "    num_list.append(int(input()))\n",
    "\n",
    "# 3개의 수를 선택하는 기준이 필요함\n",
    "num_list.sort()\n",
    "temp_list = []\n",
    "if abs(num_list[0] - num_list[1]) >= abs(num_list[n-1] - num_list[n-2]):\n",
    "    temp_list = [num_list[0], num_list[n-2],num_list[n-1]]\n",
    "else:\n",
    "    temp_list = [num_list[0], num_list[1], num_list[n-1]]\n",
    "\n",
    "ans = abs((sum(temp_list)) - temp_list[1] * 3)\n",
    "print(ans)"
   ]
  },
  {
   "cell_type": "code",
   "execution_count": 5,
   "metadata": {},
   "outputs": [
    {
     "name": "stdout",
     "output_type": "stream",
     "text": [
      "349\n"
     ]
    }
   ],
   "source": [
    "# 인프런 강의\n",
    "# 단순히 끝과 끝의 값만 다루는게 아니라 사이값도 체크를 반드시 해봐야한다는게 포인트이다.\n",
    "import sys\n",
    "def f(a,b,c):\n",
    "    return abs(a+b+c - 3*b)\n",
    "\n",
    "N = int(sys.stdin.readline())\n",
    "A = [int(sys.stdin.readline()) for _ in range(N)]\n",
    "\n",
    "A.sort()\n",
    "answer = -1\n",
    "for i in range(1, N-1):\n",
    "    answer = max(answer, f(A[i-1], A[i], A[N-1]))\n",
    "    answer = max(answer, f(A[0], A[i], A[i+1]))\n",
    "\n",
    "print(answer)\n",
    "    \n",
    "    "
   ]
  },
  {
   "cell_type": "code",
   "execution_count": null,
   "metadata": {},
   "outputs": [],
   "source": []
  }
 ],
 "metadata": {
  "kernelspec": {
   "display_name": "Python 3",
   "language": "python",
   "name": "python3"
  },
  "language_info": {
   "codemirror_mode": {
    "name": "ipython",
    "version": 3
   },
   "file_extension": ".py",
   "mimetype": "text/x-python",
   "name": "python",
   "nbconvert_exporter": "python",
   "pygments_lexer": "ipython3",
   "version": "3.11.0"
  },
  "orig_nbformat": 4
 },
 "nbformat": 4,
 "nbformat_minor": 2
}
