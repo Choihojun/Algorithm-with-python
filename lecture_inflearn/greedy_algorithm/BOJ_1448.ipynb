{
 "cells": [
  {
   "cell_type": "code",
   "execution_count": null,
   "metadata": {},
   "outputs": [],
   "source": [
    "# Link: https://www.acmicpc.net/problem/1448\n",
    "\n",
    "# 무엇이 중요한지 우선순위를 매겨서 행동하자\n",
    "\n",
    "# 세준이는 N개의 빨대를 가지고 있다. N개의 빨대 중에 3개의 빨대를 선택했을 때, 이 빨대로 삼각형을 만들 수 있다면, 세 변의 길이의 합의 최댓값을 구하고 싶다."
   ]
  },
  {
   "cell_type": "code",
   "execution_count": 10,
   "metadata": {},
   "outputs": [
    {
     "name": "stdout",
     "output_type": "stream",
     "text": [
      "-1\n"
     ]
    }
   ],
   "source": [
    "def triangle_eval(lengths: list) -> bool:\n",
    "    if max(lengths) >= (lengths[0] + lengths[1]):\n",
    "        return False\n",
    "    else:\n",
    "        return True     \n",
    "\n",
    "\n",
    "N = int(input())\n",
    "length_list = []\n",
    "for i in range(N):\n",
    "    length_list.append(int(input()))\n",
    "\n",
    "length_list.sort()\n",
    "i = len(length_list) - 3\n",
    "length_sum = 0\n",
    "while 0 <= i:\n",
    "    temp = [length_list[i], length_list[i+1], length_list[i+2]]\n",
    "    ans = triangle_eval(temp)\n",
    "    \n",
    "    if ans == True:\n",
    "        length_sum = sum(temp)\n",
    "        break\n",
    "    else:\n",
    "        i = i -1\n",
    "\n",
    "if length_sum == 0:\n",
    "    print(-1)\n",
    "else:\n",
    "    print(length_sum)\n"
   ]
  },
  {
   "cell_type": "code",
   "execution_count": 11,
   "metadata": {},
   "outputs": [],
   "source": [
    "# 인프런 강의 코드\n",
    "import sys\n",
    "N = int(sys.stdin.readline())\n",
    "A = [int(sys.stdin.readline()) for _ in range(N)]\n",
    "A.sort()\n",
    "\n",
    "answer = -1\n",
    "for i in range(N-1, 1, -1):\n",
    "    if A[i] < A[i-1] + A[i-2]:\n",
    "        answer = A[i] + A[i-1] + A[i-2]\n",
    "        break\n",
    "print(answer)"
   ]
  },
  {
   "cell_type": "code",
   "execution_count": null,
   "metadata": {},
   "outputs": [],
   "source": []
  }
 ],
 "metadata": {
  "kernelspec": {
   "display_name": "Python 3",
   "language": "python",
   "name": "python3"
  },
  "language_info": {
   "codemirror_mode": {
    "name": "ipython",
    "version": 3
   },
   "file_extension": ".py",
   "mimetype": "text/x-python",
   "name": "python",
   "nbconvert_exporter": "python",
   "pygments_lexer": "ipython3",
   "version": "3.11.0"
  },
  "orig_nbformat": 4
 },
 "nbformat": 4,
 "nbformat_minor": 2
}
