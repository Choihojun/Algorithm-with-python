{
 "cells": [
  {
   "cell_type": "code",
   "execution_count": 1,
   "metadata": {},
   "outputs": [
    {
     "name": "stdout",
     "output_type": "stream",
     "text": [
      "[20, 1, 15, 8, 4, 10]\n"
     ]
    }
   ],
   "source": [
    "# 나의 풀이\n",
    "# 내림 차순으로 정렬을 한 후에 N이 짝수라면 1, 3, 5에 큰것 순서대로 배치 그다음 제일 작은 것 순서대로 2, 4, 6이렇게 배열을 수행한다.\n",
    "\n",
    "# 입력받기\n",
    "N = int(input())\n",
    "A = list(map(int, input().split()))\n",
    "answer = 0\n",
    "\n",
    "# 배열의 차이값 계산\n",
    "def rotate(N: list) -> list:\n",
    "    N.sort()\n",
    "    \n",
    "    \n",
    "    new_list = []\n",
    "    return new_list\n",
    "# 배열 순서 정하기\n",
    "\n",
    "\n",
    "# 배열의 차이값 출력하기\n",
    "print(answer)\n"
   ]
  },
  {
   "cell_type": "code",
   "execution_count": null,
   "metadata": {},
   "outputs": [],
   "source": [
    "# Brute force는 모든 경우의 수에 대해서 테스트를 다해보고 파악하는 것\n",
    "# 리스트의 구성원에 대해서 파이썬 순열 함수를 이용하여서 만들수있다.\n",
    "\n",
    "# 예제 코드\n",
    "#from itertools import permutations\n",
    "\n",
    "#list(permutations([3, 7, 5]))"
   ]
  },
  {
   "cell_type": "code",
   "execution_count": 3,
   "metadata": {},
   "outputs": [
    {
     "name": "stdout",
     "output_type": "stream",
     "text": [
      "6\n"
     ]
    }
   ],
   "source": [
    "# 나의 코드\n",
    "\n",
    "from itertools import permutations\n",
    "\n",
    "N = int(input())\n",
    "A = list(map(int, input().split()))\n",
    "\n",
    "A_permutation = list(permutations(A))\n",
    "\n",
    "def cal_diff(input_list: list)-> int:\n",
    "    sum_diff = 0\n",
    "    for i in range(len(input_list)-1):\n",
    "        sum_diff = sum_diff + abs(input_list[i] - input_list[i+1])\n",
    "    \n",
    "    return sum_diff\n",
    "\n",
    "diff_value_list = []\n",
    "for j in range(len(A_permutation)):\n",
    "    temp_value = cal_diff(A_permutation[j])\n",
    "    diff_value_list.append(temp_value)\n",
    "\n",
    "print(max(diff_value_list))"
   ]
  },
  {
   "cell_type": "code",
   "execution_count": 2,
   "metadata": {},
   "outputs": [
    {
     "data": {
      "text/plain": [
       "[(3, 7, 5), (3, 5, 7), (7, 3, 5), (7, 5, 3), (5, 3, 7), (5, 7, 3)]"
      ]
     },
     "execution_count": 2,
     "metadata": {},
     "output_type": "execute_result"
    }
   ],
   "source": [
    "# 강의 코드\n",
    "from itertools import permutations\n",
    "\n",
    "N = int(input())\n",
    "a = list(map(int, input().split()))\n",
    "\n",
    "ans = -1\n",
    "for p in list(permutations(a)):\n",
    "    sum = 0\n",
    "    for i in range(N-1):\n",
    "        sum += abs(p[i] - p[i+1])\n",
    "        \n",
    "    if ans < sum:\n",
    "        ans = sum\n",
    "print(ans)\n",
    "\n"
   ]
  },
  {
   "cell_type": "code",
   "execution_count": null,
   "metadata": {},
   "outputs": [],
   "source": []
  }
 ],
 "metadata": {
  "kernelspec": {
   "display_name": "Python 3",
   "language": "python",
   "name": "python3"
  },
  "language_info": {
   "codemirror_mode": {
    "name": "ipython",
    "version": 3
   },
   "file_extension": ".py",
   "mimetype": "text/x-python",
   "name": "python",
   "nbconvert_exporter": "python",
   "pygments_lexer": "ipython3",
   "version": "3.11.0"
  },
  "orig_nbformat": 4
 },
 "nbformat": 4,
 "nbformat_minor": 2
}
