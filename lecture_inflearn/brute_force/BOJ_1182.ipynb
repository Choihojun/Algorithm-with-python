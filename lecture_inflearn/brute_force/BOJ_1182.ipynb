{
 "cells": [
  {
   "cell_type": "code",
   "execution_count": null,
   "metadata": {},
   "outputs": [],
   "source": [
    "# Link: https://www.acmicpc.net/problem/1182\n"
   ]
  },
  {
   "cell_type": "code",
   "execution_count": 1,
   "metadata": {},
   "outputs": [
    {
     "name": "stdout",
     "output_type": "stream",
     "text": [
      "1\n"
     ]
    }
   ],
   "source": [
    "# 나의 코드\n",
    "\n",
    "# 접근 방법: Combination 라이브러리를 이용하여서 조합의 모든 경우에 대해서 합을 구하고 그리고 S값과 같은지 비교를 하여서 카운트를 진행한다.\n",
    "from itertools import combinations\n",
    "\n",
    "N, S = list(map(int, input().split()))\n",
    "A = list(map(int, input().split()))\n",
    "\n",
    "answer = 0\n",
    "\n",
    "for i in range(N):\n",
    "    temp_combi = combinations(A, i+1)\n",
    "    for j in temp_combi:\n",
    "        if sum(j) == S:\n",
    "            answer = answer + 1\n",
    "print(answer)"
   ]
  },
  {
   "cell_type": "code",
   "execution_count": null,
   "metadata": {},
   "outputs": [],
   "source": [
    "# 강의 코드\n",
    "\n",
    "from itertools import combinations\n",
    "\n",
    "N, S = map(int, input().split())\n",
    "A = list(map(int, input().split()))\n",
    "\n",
    "ans = 0\n",
    "for num_elements in range(1, N+1):\n",
    "    for c in list(combinations(A, num_elements)):\n",
    "        if sum(c) == S:\n",
    "            ans += 1\n",
    "print(ans)"
   ]
  }
 ],
 "metadata": {
  "kernelspec": {
   "display_name": "Python 3",
   "language": "python",
   "name": "python3"
  },
  "language_info": {
   "codemirror_mode": {
    "name": "ipython",
    "version": 3
   },
   "file_extension": ".py",
   "mimetype": "text/x-python",
   "name": "python",
   "nbconvert_exporter": "python",
   "pygments_lexer": "ipython3",
   "version": "3.11.0"
  },
  "orig_nbformat": 4
 },
 "nbformat": 4,
 "nbformat_minor": 2
}
