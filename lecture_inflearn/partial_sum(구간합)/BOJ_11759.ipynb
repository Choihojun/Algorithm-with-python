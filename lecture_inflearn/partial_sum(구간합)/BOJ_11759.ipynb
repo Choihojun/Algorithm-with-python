{
 "cells": [
  {
   "cell_type": "code",
   "execution_count": null,
   "metadata": {},
   "outputs": [],
   "source": [
    "# Link: https://www.acmicpc.net/problem/11659\n",
    "\n"
   ]
  },
  {
   "cell_type": "code",
   "execution_count": 10,
   "metadata": {},
   "outputs": [
    {
     "name": "stdout",
     "output_type": "stream",
     "text": [
      "[0, 5, 9, 12, 14, 15]\n",
      "12\n",
      "9\n",
      "1\n"
     ]
    }
   ],
   "source": [
    "# 나의 풀이\n",
    "N, M = list(map(int, input().split()))\n",
    "A = list(map(int, input().split()))\n",
    "\n",
    "partial_list = []\n",
    "for i in range(M):\n",
    "    temp = list(map(int, input().split()))\n",
    "    partial_list.append(temp)\n",
    "\n",
    "prefix_sum_list = [0]\n",
    "answer_list = []\n",
    "temp_sum = 0\n",
    "for i in A:\n",
    "    temp_sum = temp_sum + i\n",
    "    prefix_sum_list.append(temp_sum)\n",
    "#print(prefix_sum_list)\n",
    "for j in partial_list:\n",
    "    temp_sum = prefix_sum_list[j[1]] - prefix_sum_list[j[0]-1]\n",
    "    answer_list.append(temp_sum)\n",
    "    \n",
    "for k in answer_list:\n",
    "    print(k) \n",
    "\n"
   ]
  },
  {
   "cell_type": "code",
   "execution_count": 4,
   "metadata": {},
   "outputs": [
    {
     "name": "stdout",
     "output_type": "stream",
     "text": [
      "3\n"
     ]
    }
   ],
   "source": [
    "# 강의코드\n",
    "import sys\n",
    "\n",
    "N, M = map(int, sys.stdin.readline().split())\n",
    "a = list(map(int, sys.stdin.readline().split()))\n",
    "\n",
    "psum = [0] * N\n",
    "psum[0] = a[0]\n",
    "for i in range(1, N):\n",
    "    psum[i] = psum[i-1] + a[i]\n",
    "    \n",
    "for _ in range(M):\n",
    "    a, b = map(int, sys.stdin.readline().split())\n",
    "    \n",
    "    if a == 1:\n",
    "        answer = psum[b -1]\n",
    "    else:\n",
    "        answer = psum[b-1] - psum[a-2]\n",
    "    print(answer)"
   ]
  },
  {
   "cell_type": "code",
   "execution_count": null,
   "metadata": {},
   "outputs": [],
   "source": []
  }
 ],
 "metadata": {
  "kernelspec": {
   "display_name": "Python 3",
   "language": "python",
   "name": "python3"
  },
  "language_info": {
   "codemirror_mode": {
    "name": "ipython",
    "version": 3
   },
   "file_extension": ".py",
   "mimetype": "text/x-python",
   "name": "python",
   "nbconvert_exporter": "python",
   "pygments_lexer": "ipython3",
   "version": "3.11.0"
  },
  "orig_nbformat": 4
 },
 "nbformat": 4,
 "nbformat_minor": 2
}
