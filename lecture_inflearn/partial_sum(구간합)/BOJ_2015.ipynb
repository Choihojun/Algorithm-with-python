{
 "cells": [
  {
   "cell_type": "code",
   "execution_count": null,
   "metadata": {},
   "outputs": [],
   "source": [
    "# Link: https://www.acmicpc.net/problem/2015"
   ]
  },
  {
   "cell_type": "code",
   "execution_count": 7,
   "metadata": {},
   "outputs": [
    {
     "name": "stdout",
     "output_type": "stream",
     "text": [
      "3\n"
     ]
    }
   ],
   "source": [
    "# 나의 코드 \n",
    "# 접근법: window를 이용하여 구간마다 다 체크를 하는 방식으로 가자\n",
    "import sys\n",
    "\n",
    "#\n",
    "N, K = map(int, input().split())\n",
    "A = list(map(int, input().split()))\n",
    "\n",
    "#N, K = map(int, sys.stdin.readline().split())\n",
    "#A = list(map(int, sys.stdin.readline().split()))\n",
    "\n",
    "answer = 0\n",
    "\n",
    "for i in range(N): # window size 결정\n",
    "    window_size = i+1\n",
    "    left_index = 0\n",
    "    right_index = window_size\n",
    "    \n",
    "    while right_index <= N:\n",
    "        temp_sum = 0\n",
    "        for j in range(left_index, right_index):\n",
    "            temp_sum = temp_sum + A[j]\n",
    "        if temp_sum == K:\n",
    "            answer = answer + 1\n",
    "        \n",
    "        left_index = left_index + 1\n",
    "        right_index = right_index + 1\n",
    "\n",
    "print(answer)"
   ]
  },
  {
   "cell_type": "code",
   "execution_count": 3,
   "metadata": {},
   "outputs": [
    {
     "name": "stdout",
     "output_type": "stream",
     "text": [
      "[0]\n"
     ]
    }
   ],
   "source": [
    "a = range(0,1)\n",
    "print(list(a))"
   ]
  },
  {
   "cell_type": "code",
   "execution_count": null,
   "metadata": {},
   "outputs": [],
   "source": [
    "# 강의 전개 방식\n",
    "# 앞에서부터 하나씩 따지면서 나아가는 방식임\n",
    "\n",
    "# Prifix sum 배열이 주어져있을때 인덱스 ?이 종료되는 시점까지 조합으로서 얻어지는 결과들에 대해서 목표하는 합의 수와 동일할때 카운트를 하면된다. \n",
    "\n",
    "# 예시 배열\n",
    "a = [1, 2, -1, -1, 2, -1,-2, 3, 1]\n",
    "prefix_sum = [1, 3, 2, 1, 3, 2, 0, 3, 4]\n",
    "target_sum = 2\n",
    "#여기서 개수를 찾기 위해서 다음과 같이 전개함\n",
    "# [?, 0] -> 0개 (인덱스 0까지 목표합이 2가 되는 경우의 수)\n",
    "# [?, 1] -> 1개 (psum(1) - psum(0))\n",
    "# [?, 2] -> 1개 (psum(2), 자기자신)\n",
    "# [?, 3] -> 0개 (psum(3) - ??, 없음)\n",
    "# [?, 4] -> 2개 (psum(4) - psum(0, 3))\n",
    "# ..."
   ]
  },
  {
   "cell_type": "code",
   "execution_count": 12,
   "metadata": {},
   "outputs": [
    {
     "name": "stdout",
     "output_type": "stream",
     "text": [
      "[1, 3, 6, 10, 15, 15]\n",
      "3\n"
     ]
    }
   ],
   "source": [
    "# 직접 다시 짜보기 2 -> 시간 초과\n",
    "\n",
    "N, K = map(int, input().split())\n",
    "A = list(map(int, input().split()))\n",
    "\n",
    "# prefix sum을 먼저 만든다.\n",
    "prefix_sum = []\n",
    "sum_temp = 0\n",
    "for i in range(N):\n",
    "    sum_temp = sum_temp + A[i]\n",
    "    prefix_sum.append(sum_temp)\n",
    "\n",
    "count = 0\n",
    "for j in range(N):\n",
    "    for i in range(0,j+1):\n",
    "        if j==i:\n",
    "            if prefix_sum[j] == K:\n",
    "                count = count + 1\n",
    "        else:\n",
    "            temp = prefix_sum[j] - prefix_sum[i]\n",
    "            if temp == K:\n",
    "                count = count + 1\n",
    "            \n",
    "print(count)\n"
   ]
  },
  {
   "cell_type": "code",
   "execution_count": 4,
   "metadata": {},
   "outputs": [
    {
     "name": "stdout",
     "output_type": "stream",
     "text": [
      "4\n"
     ]
    }
   ],
   "source": [
    "# 직접 다시 짜보기 3 \n",
    "N, K = map(int, input().split())\n",
    "A = list(map(int, input().split()))\n",
    "#import sys\n",
    "#N, K = map(int, sys.stdin.readline().split())\n",
    "#A = list(map(int, sys.stdin.readline().split()))\n",
    "\n",
    "# prefix sum을 먼저 만든다.\n",
    "prefix_sum = []\n",
    "sum_temp = 0\n",
    "count = 0\n",
    "for j in range(N):\n",
    "    sum_temp = sum_temp + A[j]\n",
    "    prefix_sum.append(sum_temp)\n",
    "    for i in range(0,j):\n",
    "        #if j==i:\n",
    "            \n",
    "        #else:\n",
    "            temp = prefix_sum[j] - prefix_sum[i]\n",
    "            if temp == K:\n",
    "                count = count + 1\n",
    "    if prefix_sum[j] == K:\n",
    "                count = count + 1\n",
    "            \n",
    "print(count)\n"
   ]
  },
  {
   "cell_type": "code",
   "execution_count": 3,
   "metadata": {},
   "outputs": [
    {
     "name": "stdout",
     "output_type": "stream",
     "text": [
      "4\n"
     ]
    }
   ],
   "source": [
    "# 강의 코드\n",
    "import sys\n",
    "\n",
    "#N, M = map(int, sys.stdin.readline().split())\n",
    "#a = list(map(int, sys.stdin.readline().split()))\n",
    "\n",
    "N, M = map(int, input().split())\n",
    "a = list(map(int, input().split()))\n",
    "\n",
    "\n",
    "psum = [0] * N\n",
    "psum[0] = a[0]\n",
    "for i in range(1,N):\n",
    "    psum[i] = psum[i-1] + a[i]\n",
    "    \n",
    "count = {}\n",
    "answer = 0\n",
    "for i in range(N):\n",
    "    goal = psum[i] - M\n",
    "\n",
    "    if goal in count:\n",
    "        answer += count[goal]\n",
    "    if goal == 0:\n",
    "        answer += 1\n",
    "    \n",
    "    if psum[i] not in count:\n",
    "        count[psum[i]] = 0\n",
    "    count[psum[i]] += 1\n",
    "    \n",
    "print(answer)    "
   ]
  },
  {
   "cell_type": "code",
   "execution_count": null,
   "metadata": {},
   "outputs": [],
   "source": []
  },
  {
   "cell_type": "code",
   "execution_count": null,
   "metadata": {},
   "outputs": [],
   "source": []
  }
 ],
 "metadata": {
  "kernelspec": {
   "display_name": "Python 3",
   "language": "python",
   "name": "python3"
  },
  "language_info": {
   "codemirror_mode": {
    "name": "ipython",
    "version": 3
   },
   "file_extension": ".py",
   "mimetype": "text/x-python",
   "name": "python",
   "nbconvert_exporter": "python",
   "pygments_lexer": "ipython3",
   "version": "3.11.0"
  },
  "orig_nbformat": 4
 },
 "nbformat": 4,
 "nbformat_minor": 2
}
