{
 "cells": [
  {
   "cell_type": "code",
   "execution_count": 7,
   "metadata": {},
   "outputs": [
    {
     "name": "stdout",
     "output_type": "stream",
     "text": [
      "5의 팩토리얼 값은 120입니다\n"
     ]
    }
   ],
   "source": [
    "# 팩토리얼 만들기\n",
    "\n",
    "def factorial(n: int)->int:\n",
    "    \n",
    "    if n > 0:\n",
    "        return n* factorial(n-1)\n",
    "    else:\n",
    "        return 1\n",
    "\n",
    "if __name__=='__main__':\n",
    "    n = int(input('계산할 수를 입력하세요'))\n",
    "    \n",
    "    result = factorial(n)\n",
    "    print(f'{n}의 팩토리얼 값은 {result}입니다')\n",
    "\n"
   ]
  },
  {
   "cell_type": "code",
   "execution_count": null,
   "metadata": {},
   "outputs": [],
   "source": []
  }
 ],
 "metadata": {
  "kernelspec": {
   "display_name": "algorithm_practice",
   "language": "python",
   "name": "python3"
  },
  "language_info": {
   "codemirror_mode": {
    "name": "ipython",
    "version": 3
   },
   "file_extension": ".py",
   "mimetype": "text/x-python",
   "name": "python",
   "nbconvert_exporter": "python",
   "pygments_lexer": "ipython3",
   "version": "3.7.12"
  },
  "orig_nbformat": 4,
  "vscode": {
   "interpreter": {
    "hash": "e0e14e5f616a294e6ff8f636e6a75ad8b46e7f6f42748f79abaa9faa0c7a351a"
   }
  }
 },
 "nbformat": 4,
 "nbformat_minor": 2
}
