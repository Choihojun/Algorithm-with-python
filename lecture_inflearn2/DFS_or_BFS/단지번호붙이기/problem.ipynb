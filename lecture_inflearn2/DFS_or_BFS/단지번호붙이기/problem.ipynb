{
 "cells": [
  {
   "cell_type": "code",
   "execution_count": null,
   "metadata": {},
   "outputs": [],
   "source": []
  },
  {
   "cell_type": "code",
   "execution_count": 11,
   "metadata": {},
   "outputs": [
    {
     "ename": "KeyboardInterrupt",
     "evalue": "",
     "output_type": "error",
     "traceback": [
      "\u001b[1;31m---------------------------------------------------------------------------\u001b[0m",
      "\u001b[1;31mKeyboardInterrupt\u001b[0m                         Traceback (most recent call last)",
      "Cell \u001b[1;32mIn[11], line 54\u001b[0m\n\u001b[0;32m     52\u001b[0m     local_home_num \u001b[39m=\u001b[39m \u001b[39m0\u001b[39m\n\u001b[0;32m     53\u001b[0m     ch[start_point[\u001b[39m0\u001b[39m]][start_point[\u001b[39m1\u001b[39m]] \u001b[39m=\u001b[39m \u001b[39m1\u001b[39m\n\u001b[1;32m---> 54\u001b[0m     DFS(start_point[\u001b[39m0\u001b[39;49m], start_point[\u001b[39m1\u001b[39;49m])\n\u001b[0;32m     55\u001b[0m     homes\u001b[39m.\u001b[39mappend(local_home_num)\n\u001b[0;32m     57\u001b[0m \u001b[39mprint\u001b[39m(cnt)\n",
      "Cell \u001b[1;32mIn[11], line 15\u001b[0m, in \u001b[0;36mDFS\u001b[1;34m(x, y)\u001b[0m\n\u001b[0;32m     13\u001b[0m HOMES[xx][yy] \u001b[39m=\u001b[39m \u001b[39m0\u001b[39m\n\u001b[0;32m     14\u001b[0m local_home_num \u001b[39m=\u001b[39m local_home_num \u001b[39m+\u001b[39m \u001b[39m1\u001b[39m\n\u001b[1;32m---> 15\u001b[0m DFS(xx, yy)\n\u001b[0;32m     16\u001b[0m HOMES[xx][yy] \u001b[39m=\u001b[39m \u001b[39m1\u001b[39m\n",
      "Cell \u001b[1;32mIn[11], line 15\u001b[0m, in \u001b[0;36mDFS\u001b[1;34m(x, y)\u001b[0m\n\u001b[0;32m     13\u001b[0m HOMES[xx][yy] \u001b[39m=\u001b[39m \u001b[39m0\u001b[39m\n\u001b[0;32m     14\u001b[0m local_home_num \u001b[39m=\u001b[39m local_home_num \u001b[39m+\u001b[39m \u001b[39m1\u001b[39m\n\u001b[1;32m---> 15\u001b[0m DFS(xx, yy)\n\u001b[0;32m     16\u001b[0m HOMES[xx][yy] \u001b[39m=\u001b[39m \u001b[39m1\u001b[39m\n",
      "    \u001b[1;31m[... skipping similar frames: DFS at line 15 (1 times)]\u001b[0m\n",
      "Cell \u001b[1;32mIn[11], line 15\u001b[0m, in \u001b[0;36mDFS\u001b[1;34m(x, y)\u001b[0m\n\u001b[0;32m     13\u001b[0m HOMES[xx][yy] \u001b[39m=\u001b[39m \u001b[39m0\u001b[39m\n\u001b[0;32m     14\u001b[0m local_home_num \u001b[39m=\u001b[39m local_home_num \u001b[39m+\u001b[39m \u001b[39m1\u001b[39m\n\u001b[1;32m---> 15\u001b[0m DFS(xx, yy)\n\u001b[0;32m     16\u001b[0m HOMES[xx][yy] \u001b[39m=\u001b[39m \u001b[39m1\u001b[39m\n",
      "Cell \u001b[1;32mIn[11], line 5\u001b[0m, in \u001b[0;36mDFS\u001b[1;34m(x, y)\u001b[0m\n\u001b[0;32m      2\u001b[0m dx \u001b[39m=\u001b[39m [\u001b[39m-\u001b[39m\u001b[39m1\u001b[39m, \u001b[39m0\u001b[39m, \u001b[39m1\u001b[39m, \u001b[39m0\u001b[39m]\n\u001b[0;32m      3\u001b[0m dy \u001b[39m=\u001b[39m [\u001b[39m0\u001b[39m, \u001b[39m1\u001b[39m, \u001b[39m0\u001b[39m, \u001b[39m-\u001b[39m\u001b[39m1\u001b[39m]\n\u001b[1;32m----> 5\u001b[0m \u001b[39mdef\u001b[39;00m \u001b[39mDFS\u001b[39m(x,y):\n\u001b[0;32m      6\u001b[0m     \u001b[39mglobal\u001b[39;00m HOMES, local_home_num\n\u001b[0;32m      7\u001b[0m     \u001b[39m# 1을 계속 찾아나간다\u001b[39;00m\n",
      "\u001b[1;31mKeyboardInterrupt\u001b[0m: "
     ]
    }
   ],
   "source": [
    "# 겁나 재밋겠다\n",
    "dx = [-1, 0, 1, 0]\n",
    "dy = [0, 1, 0, -1]\n",
    "\n",
    "def DFS(x,y):\n",
    "    global HOMES, local_home_num\n",
    "    # 1을 계속 찾아나간다\n",
    "    for i in range(4):\n",
    "            xx = x + dx[i]\n",
    "            yy = y + dy[i]\n",
    "            if 0 <= xx <= (N-1) and 0 <= yy <= (N-1) and HOMES[xx][yy] == 1:\n",
    "                if ch[xx][yy] != 1:\n",
    "                    HOMES[xx][yy] = 0\n",
    "                    local_home_num = local_home_num + 1\n",
    "                    DFS(xx, yy)\n",
    "                    HOMES[xx][yy] = 1\n",
    "\n",
    "def find(LIST):\n",
    "    global N\n",
    "    tmp = []\n",
    "    for i in range(N):\n",
    "        for j in range(N):\n",
    "            if LIST[i][j] == 1:\n",
    "                tmp = [i, j]\n",
    "                return tmp\n",
    "    if tmp == []:\n",
    "        return -1\n",
    "\n",
    "if __name__ == \"__main__\":\n",
    "    #N = int(input())\n",
    "    N = 7\n",
    "    \n",
    "    #HOMES = [[0] * N for _ in range(N)]\n",
    "    HOMES = [[0,1,1,0,1,0,0],\n",
    "             [0,1,1,0,1,0,1],\n",
    "             [1,1,1,0,1,0,1],\n",
    "             [0,0,0,0,1,1,1],\n",
    "             [0,1,0,0,0,0,0],\n",
    "             [0,1,1,1,1,1,0],\n",
    "             [0,1,1,1,0,0,0]]\n",
    "    \n",
    "    ch = [[0] * N for _ in range(N)]\n",
    "    cnt = 0\n",
    "    homes = []\n",
    "    \n",
    "    # 먼저 아무데나 1인 지점에서 시작한다\n",
    "    #start_point = find(HOMES) # 시작 좌표 (이거 얻어낸 코드 만들기)\n",
    "    local_home_num = 0\n",
    "    while find(HOMES):\n",
    "        start_point = find(HOMES)\n",
    "        cnt = cnt + 1\n",
    "        local_home_num = 0\n",
    "        ch[start_point[0]][start_point[1]] = 1\n",
    "        DFS(start_point[0], start_point[1])\n",
    "        homes.append(local_home_num)\n",
    "    \n",
    "    print(cnt)\n",
    "    print(homes)\n",
    "    #for i in range(cnt):\n",
    "    #    print(homes[i])\n",
    "    "
   ]
  },
  {
   "cell_type": "code",
   "execution_count": 14,
   "metadata": {},
   "outputs": [
    {
     "name": "stdout",
     "output_type": "stream",
     "text": [
      "3\n",
      "7\n",
      "8\n",
      "9\n"
     ]
    }
   ],
   "source": [
    "# 강의 코드\n",
    "dx = [-1, 0, 1, 0]\n",
    "dy = [0, 1, 0 ,-1]\n",
    "\n",
    "def DFS(x, y):\n",
    "    global cnt\n",
    "    cnt = cnt + 1\n",
    "    board[x][y] = 0\n",
    "    for i in range(4):\n",
    "        xx = x + dx[i]\n",
    "        yy = y + dy[i]\n",
    "        if 0<= xx < n and 0 <= yy < n and board[xx][yy] == 1:\n",
    "            DFS(xx, yy)\n",
    "    \n",
    "    \n",
    "if __name__ == \"__main__\":\n",
    "    n = int(input())\n",
    "    #board = [list(map(int, input())) for _ in range(n)]\n",
    "    board = [[0,1,1,0,1,0,0],\n",
    "             [0,1,1,0,1,0,1],\n",
    "             [1,1,1,0,1,0,1],\n",
    "             [0,0,0,0,1,1,1],\n",
    "             [0,1,0,0,0,0,0],\n",
    "             [0,1,1,1,1,1,0],\n",
    "             [0,1,1,1,0,0,0]]\n",
    "    \n",
    "    \n",
    "    res = [] # 한 단지의 집 개수\n",
    "    for i in range(n):\n",
    "        for j in range(n):\n",
    "            if board[i][j] == 1:\n",
    "                cnt = 0\n",
    "                DFS(i, j)\n",
    "                res.append(cnt)\n",
    "    print(len(res))\n",
    "    res.sort()\n",
    "    for x in res:\n",
    "        print(x)\n"
   ]
  },
  {
   "cell_type": "code",
   "execution_count": null,
   "metadata": {},
   "outputs": [],
   "source": []
  }
 ],
 "metadata": {
  "kernelspec": {
   "display_name": "Python 3",
   "language": "python",
   "name": "python3"
  },
  "language_info": {
   "codemirror_mode": {
    "name": "ipython",
    "version": 3
   },
   "file_extension": ".py",
   "mimetype": "text/x-python",
   "name": "python",
   "nbconvert_exporter": "python",
   "pygments_lexer": "ipython3",
   "version": "3.11.0"
  },
  "orig_nbformat": 4
 },
 "nbformat": 4,
 "nbformat_minor": 2
}
