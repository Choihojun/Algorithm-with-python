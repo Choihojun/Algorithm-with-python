{
 "cells": [
  {
   "cell_type": "code",
   "execution_count": 2,
   "metadata": {},
   "outputs": [],
   "source": [
    "# 카운셀러로 일하고 있는 현수는 오늘부터 N+1일째 되는 날 휴가를 가기 위해서, 남은 N일 동안 최대한 많은 상담을 해서 휴가비를 넉넉히 만들어 휴가를 떠나려 한다.\n",
    "\n",
    "# 현수는 비서에게 최대한 많은 상담을 잡으라고 부탁을 했고, 비서는 하루에 하나씩 서로 다른 사람의 상담을 잡아놓았다.\n",
    "\n",
    "# 각각의 상담은 상담을 완료하는데 걸리는 기간 Ti와 상담을 했을 때 받을 수 있는 금액 Pi로 이루어져있다. \n",
    "\n",
    "# 7인 경우에 다음과 같은 상담 일정표를 보자\n",
    "\n",
    "# 날짜   Ti   Pi\n",
    "# 1      4    20\n",
    "# 2      2    10\n",
    "# 3      3    15\n",
    "# 4      3    20\n",
    "# 5      2    30\n",
    "# 6      2    20 \n",
    "# 7      1    10\n",
    "\n",
    "# 1일에 잡혀있는 상담은 총 4일이 걸리며 이에따른 금액은 20을 얻을수 있음.\n",
    "# 여기서 5일에 잡혀있는 상담은 총 2일이 걸리며, 받을 수 있는 금액은 30임.\n",
    "# 상담을 하는데 필요한 기간은 1일보다 클 수 있기 때문에, 모든 상담을 할수는 없음.\n",
    "\n",
    "# 예를 들어서 1일에 상담을 하게 되면, 2, 3, 4일에 있는 상담은 못하게 됨 ->5일차로 넘어가야함\n",
    "\n",
    "# 해당 예제에서 상담의 최대 이익은 1, 5, 7일에 있는 상담을 하는 것임. 이때 이익은 20 + 30 + 10 = 60이다.\n",
    "\n",
    "# 휴가 출발은 N+1일임"
   ]
  },
  {
   "cell_type": "code",
   "execution_count": 7,
   "metadata": {},
   "outputs": [
    {
     "name": "stdout",
     "output_type": "stream",
     "text": [
      "[]\n"
     ]
    },
    {
     "ename": "ValueError",
     "evalue": "not enough values to unpack (expected 2, got 0)",
     "output_type": "error",
     "traceback": [
      "\u001b[1;31m---------------------------------------------------------------------------\u001b[0m",
      "\u001b[1;31mValueError\u001b[0m                                Traceback (most recent call last)",
      "Cell \u001b[1;32mIn[7], line 20\u001b[0m\n\u001b[0;32m     18\u001b[0m P \u001b[39m=\u001b[39m \u001b[39mlist\u001b[39m()\n\u001b[0;32m     19\u001b[0m \u001b[39mfor\u001b[39;00m i \u001b[39min\u001b[39;00m \u001b[39mrange\u001b[39m(n):\n\u001b[1;32m---> 20\u001b[0m     a, b \u001b[39m=\u001b[39m \u001b[39mmap\u001b[39m(\u001b[39mint\u001b[39m, \u001b[39minput\u001b[39m()\u001b[39m.\u001b[39msplit())\n\u001b[0;32m     21\u001b[0m     T\u001b[39m.\u001b[39mappend(a)\n\u001b[0;32m     22\u001b[0m     P\u001b[39m.\u001b[39mappend(b)\n",
      "\u001b[1;31mValueError\u001b[0m: not enough values to unpack (expected 2, got 0)"
     ]
    }
   ],
   "source": [
    "\n",
    "import sys\n",
    "sys.stdin=open(\"input.txt\", \"r\")\n",
    "def DFS(L, sum):\n",
    "    global res\n",
    "    \n",
    "    if L == n+1:\n",
    "        if sum > res:\n",
    "            res = sum\n",
    "    else:\n",
    "        if L+T[L] <= n+1:\n",
    "            DFS(L+T[L], sum + P[L] )\n",
    "        DFS(L+1, sum)\n",
    "    \n",
    "if __name__==\"__main__\":\n",
    "    n = int(input())\n",
    "    T = list()\n",
    "    print(T)\n",
    "    P = list()\n",
    "    for i in range(n):\n",
    "        a, b = map(int, input().split())\n",
    "        T.append(a)\n",
    "        P.append(b)\n",
    "    res=-214700\n",
    "    T.insert(0,0)\n",
    "    P.insert(0,0)\n",
    "    DFS(1,0)\n",
    "    print(res)"
   ]
  },
  {
   "cell_type": "code",
   "execution_count": 12,
   "metadata": {},
   "outputs": [
    {
     "ename": "ValueError",
     "evalue": "invalid literal for int() with base 10: ''",
     "output_type": "error",
     "traceback": [
      "\u001b[1;31m---------------------------------------------------------------------------\u001b[0m",
      "\u001b[1;31mValueError\u001b[0m                                Traceback (most recent call last)",
      "Cell \u001b[1;32mIn[12], line 28\u001b[0m\n\u001b[0;32m     25\u001b[0m         DFS(L\u001b[39m+\u001b[39m\u001b[39m1\u001b[39m, \u001b[39msum\u001b[39m)\n\u001b[0;32m     27\u001b[0m \u001b[39mif\u001b[39;00m \u001b[39m__name__\u001b[39m \u001b[39m==\u001b[39m \u001b[39m\"\u001b[39m\u001b[39m__main__\u001b[39m\u001b[39m\"\u001b[39m:\n\u001b[1;32m---> 28\u001b[0m     n \u001b[39m=\u001b[39m \u001b[39mint\u001b[39;49m(\u001b[39minput\u001b[39;49m())\n\u001b[0;32m     29\u001b[0m     T \u001b[39m=\u001b[39m [] \u001b[39m# time list\u001b[39;00m\n\u001b[0;32m     30\u001b[0m     P \u001b[39m=\u001b[39m [] \u001b[39m# pi list\u001b[39;00m\n",
      "\u001b[1;31mValueError\u001b[0m: invalid literal for int() with base 10: ''"
     ]
    }
   ],
   "source": [
    "# 직접짜보기\n",
    "\n",
    "# 7인 경우에 다음과 같은 상담 일정표를 보자\n",
    "\n",
    "# 날짜   Ti   Pi\n",
    "# 1      4    20\n",
    "# 2      2    10\n",
    "# 3      3    15\n",
    "# 4      3    20\n",
    "# 5      2    30\n",
    "# 6      2    20 \n",
    "# 7      1    10\n",
    "import sys\n",
    "sys.stdin=open(\"input.txt\", \"r\")\n",
    "\n",
    "def DFS(L, sum):\n",
    "    global res\n",
    "    if L == n+1:\n",
    "        if sum > res:\n",
    "            res = sum\n",
    "    \n",
    "    else:\n",
    "        if L+1 <= n:\n",
    "            DFS(L+T[L], sum + P[L])\n",
    "        DFS(L+1, sum)\n",
    "\n",
    "if __name__ == \"__main__\":\n",
    "    n = int(input())\n",
    "    T = [] # time list\n",
    "    P = [] # pi list\n",
    "    \n",
    "    for i in range(n):\n",
    "        a, b = map(int, input().split())\n",
    "        T.append(a)\n",
    "        P.append(b)\n",
    "    res = -100000\n",
    "    T.insert(0,0)\n",
    "    P.insert(0,0)\n",
    "    DFS(1, 0)\n",
    "    print(res)"
   ]
  },
  {
   "cell_type": "code",
   "execution_count": null,
   "metadata": {},
   "outputs": [],
   "source": []
  }
 ],
 "metadata": {
  "kernelspec": {
   "display_name": "Python 3",
   "language": "python",
   "name": "python3"
  },
  "language_info": {
   "codemirror_mode": {
    "name": "ipython",
    "version": 3
   },
   "file_extension": ".py",
   "mimetype": "text/x-python",
   "name": "python",
   "nbconvert_exporter": "python",
   "pygments_lexer": "ipython3",
   "version": "3.11.0"
  },
  "orig_nbformat": 4
 },
 "nbformat": 4,
 "nbformat_minor": 2
}
