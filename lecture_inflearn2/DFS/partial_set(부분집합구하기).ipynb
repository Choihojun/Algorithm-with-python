{
 "cells": [
  {
   "cell_type": "code",
   "execution_count": null,
   "metadata": {},
   "outputs": [],
   "source": [
    "# 출력설명\n",
    "# 첫번째 줄부터 각 줄에 하나씩 아래와 같이 출력한다.\n",
    "# 출력순서는 깊이우선탐색, 전위순회방식으로 출력을 진행함.\n",
    "# 단 공집합은 출력하지 않습니다.\n",
    "\n",
    "# 입력예제 1 -> 3이 들어오면...\n",
    "# 출력예제 1 \n",
    "\"\"\"\n",
    "123\n",
    "12\n",
    "13\n",
    "1\n",
    "23\n",
    "2\n",
    "3\n",
    "\"\"\""
   ]
  },
  {
   "cell_type": "code",
   "execution_count": null,
   "metadata": {},
   "outputs": [],
   "source": [
    "import sys\n",
    "\n",
    "\n",
    "if __name__==\"__main__\":\n",
    "    n = int(input())"
   ]
  }
 ],
 "metadata": {
  "language_info": {
   "name": "python"
  },
  "orig_nbformat": 4
 },
 "nbformat": 4,
 "nbformat_minor": 2
}
