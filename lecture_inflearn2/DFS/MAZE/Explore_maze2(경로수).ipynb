{
 "cells": [
  {
   "attachments": {},
   "cell_type": "markdown",
   "metadata": {},
   "source": [
    "## 미로 탐색 (DFS)\n",
    "\n",
    "미로에서 몇가지 길이 있는지 파악하는 것은 DFS이다.\n",
    "\n",
    "최단 거리는 BFS (전체가 퍼져나가면서 어느것이 먼저 도달하는 것인지를 따지는것)\n",
    "\n",
    "![problem](./problem_number_of_way.png)\n"
   ]
  },
  {
   "attachments": {},
   "cell_type": "markdown",
   "metadata": {},
   "source": [
    "BFS -> Queue 활용\n",
    "DFS -> 재귀함수를 이용함\n",
    "\n",
    "직접 코드 짜본후 피드백: 뒤로 빽하는 것에 대해서 구현을 아직 안해본듯 하다. \n",
    "\n",
    "![core](./back.png)"
   ]
  },
  {
   "cell_type": "code",
   "execution_count": 12,
   "metadata": {},
   "outputs": [
    {
     "name": "stdout",
     "output_type": "stream",
     "text": [
      "8\n"
     ]
    }
   ],
   "source": [
    "# 직접 짜본 코드\n",
    "dx = [-1, 0, 1, 0]\n",
    "dy = [0, 1, 0, -1]\n",
    "def DFS(x, y):\n",
    "    global count\n",
    "    # 종료 조건 -> 도착하는 것 -> 카운트!\n",
    "    if x == 6 and y == 6:\n",
    "        count += 1\n",
    "    else:\n",
    "        for i in range(4):\n",
    "            xx = x + dx[i]\n",
    "            yy = y + dy[i]\n",
    "            if 0<= xx <= 6 and 0<= yy <=6 and MAZE[xx][yy] != 1:\n",
    "                MAZE[xx][yy] = 1\n",
    "                DFS(xx, yy)\n",
    "                MAZE[xx][yy] = 0\n",
    "                \n",
    "    \n",
    "if __name__ == \"__main__\":\n",
    "    #N = int(input())\n",
    "    \n",
    "    #MAZE = [list(map(int, input().split())) for _ in range(N)]\n",
    "    \n",
    "    MAZE = [[0, 0, 0, 0, 0, 0, 0], \n",
    "            [0, 1, 1, 1, 1, 1, 0],\n",
    "            [0, 0, 0, 1, 0, 0, 0],\n",
    "            [1, 1, 0, 1, 0, 1, 1],\n",
    "            [1, 1, 0, 0, 0, 0, 1],\n",
    "            [1, 1, 0, 1, 1, 0, 0],\n",
    "            [1, 0, 0, 0, 0, 0, 0]\n",
    "            ]\n",
    "    # 생각보다 세상에 많은 기업들이 존재한다 -> 건강한 사회로 보여진다. \n",
    "    \n",
    "    ch = [[0] * 7 for _ in range(7)]\n",
    "    MAZE[0][0] = 1\n",
    "    count = 0\n",
    "    DFS(0,0)\n",
    "    print(count)\n",
    "    "
   ]
  },
  {
   "cell_type": "code",
   "execution_count": 8,
   "metadata": {},
   "outputs": [
    {
     "name": "stdout",
     "output_type": "stream",
     "text": [
      "8\n"
     ]
    }
   ],
   "source": [
    "# 강의코드\n",
    "\n",
    "dx = [-1, 0, 1, 0]\n",
    "dy = [0, 1, 0, -1]\n",
    "def DFS(x, y):\n",
    "    global cnt\n",
    "    if x == 6 and y == 6: # 도착지점\n",
    "        cnt += 1\n",
    "    else: # 이제 뻗어나간다\n",
    "        for i in range(4):\n",
    "            xx = x + dx[i]\n",
    "            yy = y + dy[i]\n",
    "            if 0 <= xx <= 6 and 0 <= yy <= 6 and MAZE[xx][yy] != 1:\n",
    "                MAZE[xx][yy] = 1\n",
    "                DFS(xx, yy)\n",
    "                \n",
    "                # 여기서부터 체크를 풀어주는것\n",
    "                MAZE[xx][yy] = 0\n",
    "    \n",
    "    \n",
    "if __name__ == \"__main__\":\n",
    "    MAZE = [[0, 0, 0, 0, 0, 0, 0], \n",
    "            [0, 1, 1, 1, 1, 1, 0],\n",
    "            [0, 0, 0, 1, 0, 0, 0],\n",
    "            [1, 1, 0, 1, 0, 1, 1],\n",
    "            [1, 1, 0, 0, 0, 0, 1],\n",
    "            [1, 1, 0, 1, 1, 0, 0],\n",
    "            [1, 0, 0, 0, 0, 0, 0]\n",
    "            ]\n",
    "    cnt = 0\n",
    "    MAZE[0][0] = 1\n",
    "    DFS(0,0)\n",
    "    print(cnt)"
   ]
  },
  {
   "cell_type": "code",
   "execution_count": null,
   "metadata": {},
   "outputs": [],
   "source": []
  }
 ],
 "metadata": {
  "kernelspec": {
   "display_name": "Python 3",
   "language": "python",
   "name": "python3"
  },
  "language_info": {
   "codemirror_mode": {
    "name": "ipython",
    "version": 3
   },
   "file_extension": ".py",
   "mimetype": "text/x-python",
   "name": "python",
   "nbconvert_exporter": "python",
   "pygments_lexer": "ipython3",
   "version": "3.11.0"
  },
  "orig_nbformat": 4
 },
 "nbformat": 4,
 "nbformat_minor": 2
}
