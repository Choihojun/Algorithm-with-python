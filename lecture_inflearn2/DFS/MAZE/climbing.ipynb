{
 "cells": [
  {
   "cell_type": "code",
   "execution_count": null,
   "metadata": {},
   "outputs": [],
   "source": [
    "# 등산경로 (DFS)"
   ]
  },
  {
   "cell_type": "code",
   "execution_count": 13,
   "metadata": {},
   "outputs": [
    {
     "name": "stdout",
     "output_type": "stream",
     "text": [
      "10\n"
     ]
    }
   ],
   "source": [
    "# 직접 짜보기 \n",
    "dx = [-1, 0, 1, 0]\n",
    "dy = [0, 1, 0, -1]\n",
    "\n",
    "def DFS(x, y):\n",
    "    global final_pos, start_pos, cnt\n",
    "    \n",
    "    if x == final_pos[0] and y == final_pos[1]:\n",
    "        cnt = cnt + 1\n",
    "    else:\n",
    "        for i in range(4):\n",
    "            xx = x + dx[i]\n",
    "            yy = y + dy[i]\n",
    "            if 0 <= xx <= (N-1) and 0 <= yy <= (N-1):\n",
    "                if Mountain[xx][yy] >= Mountain[x][y]:\n",
    "                    if ch[xx][yy] != 1:\n",
    "                        ch[xx][yy] = 1\n",
    "                        DFS(xx, yy)\n",
    "                        ch[xx][yy] = 0\n",
    "            \n",
    "\n",
    "if __name__ == \"__main__\":\n",
    "    N = int(input())\n",
    "    N = 7\n",
    "    #Mountain = [list(map(int, input().split())) for _ in range(5)]\n",
    "    \n",
    "    Mountain = [[2, 23, 92,78,93],\n",
    "                [59, 50, 48, 90, 80],\n",
    "                [30, 53, 70, 75, 96],\n",
    "                [94, 91, 82, 89, 93],\n",
    "                [97, 98, 95, 96, 100]]\n",
    "    Mountain = [[4, 7, 5],\n",
    "                [5, 3, 8],\n",
    "                [9, 6, 5]]\n",
    "    Mountain = [[2, 23, 92, 78, 93, 100, 34],\n",
    "[59, 50 ,48 ,90 ,80 ,101, 45],\n",
    "[30 ,53 ,70 ,75 ,96, 102 ,56],\n",
    "[94, 91 ,82 ,89, 93 ,103 ,76],\n",
    "[97 ,98, 95 ,96 ,100, 104, 123],\n",
    "[102 ,103 ,104, 105 ,106 ,107, 23],\n",
    "[23 ,45, 76 ,34, 87, 100, 34]]\n",
    "    \n",
    "    mini = 100000\n",
    "    maxi = 0\n",
    "    start_pos = []\n",
    "    final_pos = []\n",
    "    for i in range(N):\n",
    "        for j in range(N):\n",
    "            if mini > Mountain[i][j]:\n",
    "                mini = Mountain[i][j]\n",
    "                start_pos = [i,j]\n",
    "            if maxi < Mountain[i][j]:\n",
    "                maxi = Mountain[i][j]\n",
    "                final_pos = [i, j]\n",
    "    cnt = 0\n",
    "    ch = [[0] * N for _ in range(N)]\n",
    "    ch[start_pos[0]][start_pos[1]] = 1\n",
    "    DFS(start_pos[0],start_pos[1])    \n",
    "    print(cnt)\n",
    "    \n"
   ]
  },
  {
   "cell_type": "code",
   "execution_count": null,
   "metadata": {},
   "outputs": [],
   "source": []
  }
 ],
 "metadata": {
  "kernelspec": {
   "display_name": "Python 3",
   "language": "python",
   "name": "python3"
  },
  "language_info": {
   "codemirror_mode": {
    "name": "ipython",
    "version": 3
   },
   "file_extension": ".py",
   "mimetype": "text/x-python",
   "name": "python",
   "nbconvert_exporter": "python",
   "pygments_lexer": "ipython3",
   "version": "3.11.0"
  },
  "orig_nbformat": 4
 },
 "nbformat": 4,
 "nbformat_minor": 2
}
