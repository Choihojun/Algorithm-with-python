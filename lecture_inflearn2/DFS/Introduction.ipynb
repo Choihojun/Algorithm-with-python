{
 "cells": [
  {
   "cell_type": "code",
   "execution_count": 3,
   "metadata": {},
   "outputs": [
    {
     "name": "stdout",
     "output_type": "stream",
     "text": [
      "1 2 3 "
     ]
    }
   ],
   "source": [
    "# 재귀함수와 스택\n",
    "# 스택에 복귀 주소와 실행해야할 것들까지 하나씩 쌓이게 된다.\n",
    "# 스택은 First in last OUt이므로 DFS(1)부터 시작된다\n",
    "import sys\n",
    "\n",
    "def DFS(x):\n",
    "    if x >0:\n",
    "        DFS(x-1)\n",
    "        print(x, end=' ')    \n",
    "    \n",
    "if __name__==\"__main__\":\n",
    "    n = int(input())\n",
    "    DFS(n) # 1,2,3을 재귀적으로 호출하는 함수\n",
    "    "
   ]
  },
  {
   "cell_type": "code",
   "execution_count": 8,
   "metadata": {},
   "outputs": [
    {
     "name": "stdout",
     "output_type": "stream",
     "text": [
      "1\n",
      "0\n",
      "1\n",
      "1\n"
     ]
    }
   ],
   "source": [
    "# 재귀함수를 이용한 이진수 출력\n",
    "# 10진수 N이 입력되면 2진수로 변환하여 출력하는 프로그램 (단 재귀함수를 이용하여 출력해야함)\n",
    "\n",
    "import sys\n",
    "def DFS(N: int):\n",
    "    if N >0:\n",
    "        \n",
    "        DFS(int(N/2))\n",
    "        print(int(N%2))\n",
    "\n",
    "if __name__ == '__main__':\n",
    "    N = int(input())\n",
    "    DFS(N)\n",
    "    \n",
    "\n"
   ]
  },
  {
   "cell_type": "code",
   "execution_count": 10,
   "metadata": {},
   "outputs": [
    {
     "name": "stdout",
     "output_type": "stream",
     "text": [
      "4\n",
      "2\n",
      "5\n",
      "1\n",
      "6\n",
      "3\n",
      "7\n"
     ]
    }
   ],
   "source": [
    "# 이진트리 순회\n",
    "\n",
    "# 전위순회출력 (DFS)\n",
    "# 중위순회출력 (??) 자식 노드에서 시작해서 중간 노드 출력하고 없으면 뿌리까지 올라가는 방식임\n",
    "# 후위순회출력 ()\n",
    "\n",
    "import sys\n",
    "\n",
    "def DFS(v):\n",
    "    if v>7:\n",
    "        return\n",
    "    else:\n",
    "        # 전위순회출력 방식 -> 이 방식이 대표적임\n",
    "        # print(v) # DFS의 본연의 일 (밑에 두줄을 하기 전에 일을 하고 호출하는것)\n",
    "        # DFS(v*2) # 왼쪽 노드를 호출 -> 2 -> 4 (밑에 의해서 5)\n",
    "        # DFS(v*2+1) # 오른쪽 자식 노드로 호출 -> 3 -> 6\n",
    "        \n",
    "        # 중위순회출력 방식 -> 거의 안쓰임\n",
    "        # DFS(v*2) \n",
    "        # print(v) \n",
    "        # DFS(v*2+1) \n",
    "        \n",
    "        # 후위순회출력 방식 -> 병합정렬이 대표적임\n",
    "        DFS(v*2) \n",
    "        DFS(v*2+1)\n",
    "        print(v)\n",
    "        \n",
    "if __name__ == \"__main__\":\n",
    "    DFS(1)\n"
   ]
  },
  {
   "cell_type": "code",
   "execution_count": null,
   "metadata": {},
   "outputs": [],
   "source": []
  }
 ],
 "metadata": {
  "kernelspec": {
   "display_name": "Python 3",
   "language": "python",
   "name": "python3"
  },
  "language_info": {
   "codemirror_mode": {
    "name": "ipython",
    "version": 3
   },
   "file_extension": ".py",
   "mimetype": "text/x-python",
   "name": "python",
   "nbconvert_exporter": "python",
   "pygments_lexer": "ipython3",
   "version": "3.11.0"
  },
  "orig_nbformat": 4
 },
 "nbformat": 4,
 "nbformat_minor": 2
}
