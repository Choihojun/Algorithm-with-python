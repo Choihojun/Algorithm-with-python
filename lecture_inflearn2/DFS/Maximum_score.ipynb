{
 "cells": [
  {
   "cell_type": "code",
   "execution_count": null,
   "metadata": {},
   "outputs": [],
   "source": [
    "# 정보올림피아드대회에서 좋은 성적을 내기 위해서 현수는 선생님이 주신 N개의 문제를 풀려고함. 각 문제는 그것을 풀었을 때 얻는 점수와 푸는데 걸리는 시간이 주어지게 됩니다. 제한시간 M안에 N개의 문제 중 최대점수를 얻을 수 있도록 해야합니다. (해당 문제는 해당 시간이 걸리면 푸는 걸로 간주함, 한 유형당 한개만 풀수 있음)\n",
    "\n",
    "# 입력설명\n",
    "# 첫 번째 줄에 문제의 개수 N과 제한시간 M이 주어짐.\n",
    "# 두 번째 줄부터 N줄에 걸쳐 문제를 풀었을 때의 점수와 푸는데 걸리는 시간이 주어짐\n",
    "\n",
    "# 출력설명\n",
    "# 첫번째 줄에 제한시간안에 얻을수있는 최대 점수를 출력한다. \n",
    "\n",
    "# 입력예제 1\n",
    "# 5 20\n",
    "# 10 5\n",
    "# 25 12\n",
    "# 15 8\n",
    "# 6 3\n",
    "# 7 4\n",
    "\n",
    "# 출력예제 1\n",
    "# 41 \n",
    "\n",
    "# 전략 -> 푼다, 또는 풀지 않는다에 대한 접근을 트리로 잘 해석해야함"
   ]
  },
  {
   "cell_type": "code",
   "execution_count": 6,
   "metadata": {},
   "outputs": [
    {
     "ename": "ValueError",
     "evalue": "not enough values to unpack (expected 2, got 0)",
     "output_type": "error",
     "traceback": [
      "\u001b[1;31m---------------------------------------------------------------------------\u001b[0m",
      "\u001b[1;31mValueError\u001b[0m                                Traceback (most recent call last)",
      "Cell \u001b[1;32mIn[6], line 17\u001b[0m\n\u001b[0;32m     14\u001b[0m         DFS(L\u001b[39m+\u001b[39m\u001b[39m1\u001b[39m, \u001b[39msum\u001b[39m, time) \u001b[39m# 안풀고 넘어갈수도 있음\u001b[39;00m\n\u001b[0;32m     16\u001b[0m \u001b[39mif\u001b[39;00m \u001b[39m__name__\u001b[39m\u001b[39m==\u001b[39m\u001b[39m\"\u001b[39m\u001b[39m__main__\u001b[39m\u001b[39m\"\u001b[39m:\n\u001b[1;32m---> 17\u001b[0m     n, m \u001b[39m=\u001b[39m \u001b[39mmap\u001b[39m(\u001b[39mint\u001b[39m, \u001b[39minput\u001b[39m()\u001b[39m.\u001b[39msplit())\n\u001b[0;32m     18\u001b[0m     pv \u001b[39m=\u001b[39m \u001b[39mlist\u001b[39m()\n\u001b[0;32m     19\u001b[0m     pt \u001b[39m=\u001b[39m \u001b[39mlist\u001b[39m()\n",
      "\u001b[1;31mValueError\u001b[0m: not enough values to unpack (expected 2, got 0)"
     ]
    }
   ],
   "source": [
    "import sys\n",
    "sys.stdin = open(\"input.txt\", \"r\")\n",
    "\n",
    "def DFS(L, sum, time): #L -> Level (첫번째, 두번째 .. 문제를 가르킴)\n",
    "    global res\n",
    "    if time > m:\n",
    "        return\n",
    "    \n",
    "    if L==n: # 종착 지점은 n임\n",
    "        if sum > res:\n",
    "            res = sum\n",
    "    else:\n",
    "        DFS(L+1, sum+pv[L], time+pt[L])\n",
    "        DFS(L+1, sum, time) # 안풀고 넘어갈수도 있음\n",
    "\n",
    "if __name__==\"__main__\":\n",
    "    n, m = map(int, input().split())\n",
    "    pv = list()\n",
    "    pt = list()\n",
    "    for i in range(n):\n",
    "        a, b = map(int, input().split())\n",
    "        pv.append(a)\n",
    "        pt.append(b)\n",
    "    res = -2147000\n",
    "    DFS(0, 0, 0)\n",
    "    print(res)"
   ]
  },
  {
   "cell_type": "code",
   "execution_count": null,
   "metadata": {},
   "outputs": [],
   "source": []
  }
 ],
 "metadata": {
  "kernelspec": {
   "display_name": "Python 3",
   "language": "python",
   "name": "python3"
  },
  "language_info": {
   "codemirror_mode": {
    "name": "ipython",
    "version": 3
   },
   "file_extension": ".py",
   "mimetype": "text/x-python",
   "name": "python",
   "nbconvert_exporter": "python",
   "pygments_lexer": "ipython3",
   "version": "3.11.0"
  },
  "orig_nbformat": 4
 },
 "nbformat": 4,
 "nbformat_minor": 2
}
