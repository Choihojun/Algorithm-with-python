{
 "cells": [
  {
   "cell_type": "code",
   "execution_count": null,
   "metadata": {},
   "outputs": [],
   "source": [
    "# 1. dis 행렬에는 각 행렬 위치에 다 익는데 얼마나 걸리는지 기록하는 행렬임 \n",
    "# 2. 이중 for문이 돌면서 익은 토마토 위치를 파악한다.\n",
    "# 3. 익은 토마토를 찾게 되었을때 큐에 넣게 된다. \n",
    "# 4. 그리고 익은 토마토의 위치에는 부모노드 값 +1을 해준다. \n",
    "# 할수있다. 할수있다. \n",
    "\n",
    "# 다발성 시작 포인트의 경우에는 어떻게 되는가를 다루는 문제임\n",
    "# 처음 위치 둘다 큐에 넣게 됨 -> 그리고 하나씩 빼면서 계산하면 됨 (문제될건 없음)\n"
   ]
  },
  {
   "cell_type": "code",
   "execution_count": null,
   "metadata": {},
   "outputs": [],
   "source": [
    "from collections import deque\n",
    "dx = [-1, 0, 1, 0]\n",
    "dy = [0, 1, 0, -1]\n",
    "\n",
    "n, m = map(int, input().split())\n",
    "board = [list(map(int, input().split())) for _ in range(m)]\n",
    "\n",
    "Q = deque()\n",
    "dis = [[0] * n for _ in range(m)]\n",
    "\n",
    "# 1. 익은 위치 파악하기\n",
    "for i in range(m):\n",
    "    for j in range(n):\n",
    "        if board[i][j] == 1:\n",
    "            Q.append((i, j))\n",
    "\n",
    "while Q:\n",
    "    tmp = Q.popleft()\n",
    "    for i in range(4):\n",
    "        xx = tmp[0] + dx[i]\n",
    "        yy = tmp[1] + dy[i]\n",
    "        if 0 <= xx < m and 0 <= yy < n and board[xx][yy] ==0:\n",
    "            board[xx][yy] = 1\n",
    "            # 날짜 더하기 \n",
    "            dis[xx][yy] = dis[tmp[0]][tmp[0]] + 1\n",
    "            Q.append((xx,yy))\n",
    "            \n",
    "flag = 1\n",
    "for i in range(m):\n",
    "    for j in range(n):\n",
    "        if board[i][j] == 0:\n",
    "            flag = 0\n",
    "\n",
    "result = 0\n",
    "if flag==1:\n",
    "    # 이중 for문을 수행하면서 최대값을 찾아야함\n",
    "    for i in range(m):\n",
    "        for j in range(n):\n",
    "            if result < dis[i][j]:\n",
    "                result = dis[i][j]\n",
    "    print(result)\n",
    "else:\n",
    "    print(-1)"
   ]
  },
  {
   "cell_type": "code",
   "execution_count": 6,
   "metadata": {},
   "outputs": [
    {
     "name": "stdout",
     "output_type": "stream",
     "text": [
      "deque([(1, 2), (3, 5)])\n",
      "4\n"
     ]
    }
   ],
   "source": [
    "# 직접 짜보기\n",
    "from collections import deque\n",
    "\n",
    "dx = [-1, 0, 1, 0]\n",
    "dy = [0, 1, 0, -1]\n",
    "\n",
    "# 입력받기\n",
    "#m, n = map(int, input().split()) # 가로 # 세로 \n",
    "m, n= 6, 4\n",
    "#board = [list(map(int, input().split())) for _ in range(n)]\n",
    "board = [[0, 0, -1, 0, 0, 0],\n",
    "         [0, 0, 1, 0, -1, 0],\n",
    "         [0, 0, -1, 0, 0, 0],\n",
    "         [0, 0, 0, 0, -1, 1]\n",
    "         ]\n",
    "\n",
    "# 날짜 셈을 위한 dis 행렬 선언\n",
    "dis = [[0] * m for _ in range(n)]\n",
    "\n",
    "# 익은 토마토 위치 파악 (BFS 시작지점)\n",
    "Q = deque()\n",
    "for i in range(n):\n",
    "    for j in range(m):\n",
    "        if board[i][j] == 1:\n",
    "            Q.append((i, j))\n",
    "\n",
    "print(Q)\n",
    "# 반복문 시작\n",
    "while Q:\n",
    "    tmp = Q.popleft()\n",
    "    for i in range(4): # 탐색 시작\n",
    "        xx = tmp[0] + dx[i]\n",
    "        yy = tmp[1] + dy[i]\n",
    "        if 0 <= xx < n and 0 <= yy <m and board[xx][yy] == 0:\n",
    "            board[xx][yy] = 1\n",
    "            dis[xx][yy] = dis[tmp[0]][tmp[1]] + 1\n",
    "            Q.append((xx, yy))\n",
    "flag = 1\n",
    "result = 0\n",
    "for i in range(n):\n",
    "    for j in range(m):\n",
    "        if board[i][j] == 0:\n",
    "            flag = 0\n",
    "        if result < dis[i][j]:\n",
    "            result = dis[i][j]    \n",
    "        \n",
    "if flag == 0:\n",
    "    print(-1)\n",
    "else:\n",
    "    print(result)    "
   ]
  },
  {
   "cell_type": "code",
   "execution_count": null,
   "metadata": {},
   "outputs": [],
   "source": []
  }
 ],
 "metadata": {
  "kernelspec": {
   "display_name": "Python 3",
   "language": "python",
   "name": "python3"
  },
  "language_info": {
   "codemirror_mode": {
    "name": "ipython",
    "version": 3
   },
   "file_extension": ".py",
   "mimetype": "text/x-python",
   "name": "python",
   "nbconvert_exporter": "python",
   "pygments_lexer": "ipython3",
   "version": "3.11.0"
  },
  "orig_nbformat": 4
 },
 "nbformat": 4,
 "nbformat_minor": 2
}
