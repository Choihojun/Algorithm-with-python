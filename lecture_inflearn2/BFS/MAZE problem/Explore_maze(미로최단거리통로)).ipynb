{
 "cells": [
  {
   "attachments": {},
   "cell_type": "markdown",
   "metadata": {},
   "source": [
    "## 미로 최단거리 통로 (BFS)\n",
    "## DFS, BFS - 9번강의\n",
    "\n",
    "미로의 최단거리 통로 (DFS 활용)\n",
    "\n",
    "자연수 N이 주어지면 7*7 격자판 미로를 탈출하는 최단 경로의 경로수를 출력하는 프로그램을 작성하세요. 경로수는 출발점에서 도착점까지 가는데 이동한 횟수를 의미함.\n",
    "\n",
    "출발점은 격자의 (1,1) 좌표를 의미함. 탈출 도착점은 (7,7)좌표이다. \n",
    "격자판의 1은 벽을 의미하며 0은 도로를 의미함.\n",
    "\n",
    "격자판의 움직임은 상하좌우로만 움직임.\n",
    "\n",
    "미로가 다음과 같을때....\n",
    "\n",
    "![MAZE](./MAZE1.png)\n",
    "\n",
    "위와 같은 경로가 최단 경로이며 경로수는 12이다. \n",
    "\n",
    "## 입력설명\n",
    "\n",
    "첫번째 줄에 자연수 N (1 <= N <= 20)이 주어짐\n",
    "\n",
    "![MAZE_init](./MAZE1_init.png)"
   ]
  },
  {
   "cell_type": "code",
   "execution_count": 13,
   "metadata": {},
   "outputs": [
    {
     "name": "stdout",
     "output_type": "stream",
     "text": [
      "12\n",
      "[[2, 1, 2, 3, 4, 5, 6], [1, 0, 0, 0, 0, 0, 7], [2, 3, 4, 0, 10, 9, 8], [0, 0, 5, 0, 11, 0, 0], [0, 0, 6, 0, 12, 13, 14], [0, 8, 7, 8, 0, 12, 13], [0, 9, 0, 9, 10, 11, 12]] "
     ]
    }
   ],
   "source": [
    "# 직접 짜보기\n",
    "\n",
    "from collections import deque\n",
    "\n",
    "#MAZE = [list(map(int, input().split())) for _ in range(7)]\n",
    "\n",
    "MAZE = [[0, 0, 0, 0, 0, 0, 0], \n",
    "        [0, 1, 1, 1, 1, 1, 0],\n",
    "        [0, 0, 0, 1, 0, 0, 0],\n",
    "        [1, 1, 0, 1, 0, 1, 1],\n",
    "        [1, 1, 0, 1, 0, 0, 0],\n",
    "        [1, 0, 0, 0, 1, 0, 0],\n",
    "        [1, 0, 1, 0, 0, 0, 0]\n",
    "        ]\n",
    "\n",
    "dx = [-1, 0, 1, 0]\n",
    "dy = [0, 1, 0, -1]\n",
    "\n",
    "sum = 0\n",
    "ch = [7 *[0] for _ in range(7)]\n",
    "\n",
    "dQ = deque()\n",
    "dQ.append((0,0))\n",
    "\n",
    "while dQ:\n",
    "    # if 도착 (6,6) -> break\n",
    "    size = len(dQ)\n",
    "    for i in range(size):\n",
    "        tmp = dQ.popleft()\n",
    "        for j in range(4):\n",
    "                x = tmp[0] + dx[j]\n",
    "                y = tmp[1] + dy[j]\n",
    "                if (0 <= x <=6) and (0 <= y <= 6) and MAZE[x][y] ==0:\n",
    "                    MAZE[x][y] = 1\n",
    "                    ch[x][y] = ch[tmp[0]][tmp[1]] + 1\n",
    "                    dQ.append((x,y))\n",
    "\n",
    "if ch[6][6] == 0:\n",
    "    print(-1)\n",
    "else:\n",
    "    print(ch[6][6])\n",
    "print(ch, end = ' ')\n",
    "#print(sum) # 다 더해진 결과가 나오는듯함"
   ]
  },
  {
   "cell_type": "code",
   "execution_count": null,
   "metadata": {},
   "outputs": [],
   "source": [
    "# 직접 짜보기\n",
    "\n"
   ]
  }
 ],
 "metadata": {
  "kernelspec": {
   "display_name": "Python 3",
   "language": "python",
   "name": "python3"
  },
  "language_info": {
   "codemirror_mode": {
    "name": "ipython",
    "version": 3
   },
   "file_extension": ".py",
   "mimetype": "text/x-python",
   "name": "python",
   "nbconvert_exporter": "python",
   "pygments_lexer": "ipython3",
   "version": "3.11.0"
  },
  "orig_nbformat": 4
 },
 "nbformat": 4,
 "nbformat_minor": 2
}
