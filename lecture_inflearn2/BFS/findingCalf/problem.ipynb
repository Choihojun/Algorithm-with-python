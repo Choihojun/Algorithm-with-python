{
 "cells": [
  {
   "attachments": {},
   "cell_type": "markdown",
   "metadata": {},
   "source": [
    "## 송아지 찾기 (BFS: 상대 트리 탐색)\n",
    "\n",
    "![main](./problem_image.png)"
   ]
  },
  {
   "attachments": {},
   "cell_type": "markdown",
   "metadata": {},
   "source": [
    "## 강사님 말씀\n",
    "\n",
    "BFS -> Level 단위로 탐색을 수행함 (가로로 읽음)\n",
    "\n",
    "이를 위해서는 Queue를 알아야함\n",
    "\n",
    "0을 넣고 탐색하고 0을 팝하고 그다음 1레벨로 가서 1,2 노드를 넣는다 \n",
    "\n",
    "1을 팝하고 3,4를 넣고, 2를 팝하고 5,6을 넣는다\n",
    "\n",
    "마찬가지로 3이 팝되고 7, 8이 들어간다. (이런식으로 구성됨)\n",
    "\n",
    "![BFS](./queue_and_BFS.png)\n",
    "\n",
    "문제 해석을 해보자\n",
    "만약 5에서 시작하게 되면 4, 6, 10이 그다음 potential한 위치가 됨 (모두 큐에 들어가야함)\n",
    "\n",
    "만약 4에서 시작해서 다시 5 (시작지점)로 가면 안되니깐 체크를 해줘야함\n",
    "\n",
    "4에서 시작해서 3으로 가면 2번 이동한것을 의미함. \n",
    "\n",
    "이렇게 해서 최초로 목표지점이 먼저 나왔을때 끝나는것 (그래서 BFS임 -> DFS로 하면 끝도 없다는 것)\n",
    "\n",
    "![anal](./problem_anal.png)\n"
   ]
  },
  {
   "cell_type": "code",
   "execution_count": null,
   "metadata": {},
   "outputs": [],
   "source": [
    "# 코드\n",
    "from collections import deque\n",
    "MAX = 10000 # 좌표 최대값\n",
    "ch = [0] * (MAX + 1) # 체크 번호\n",
    "dis = [0] * (MAX + 1) # 위치\n",
    "n, m = map(int, input().split()) # n: 출발점, m:도착점\n",
    "\n",
    "ch[n] = 1 # 처음 시작점은 이미 밟았으므로 1로 체크함\n",
    "dis[n] = 0\n",
    "dQ = deque()\n",
    "dQ.append(n) # 출발점을 추가함\n",
    "\n",
    "while dQ:\n",
    "    now = dQ.popleft() # 큐에서 하나 꺼냄 (현재위치가 나오겠지)\n",
    "    if now == m:\n",
    "        break\n",
    "    for next in(now-1, now+1, now+5): #이렇게 자식으로 뻗음\n",
    "        if 0 < next and next <= MAX:\n",
    "            if ch[next] != 1:\n",
    "                dQ.append(next)\n",
    "                ch[next] = 1\n",
    "                dis[next] = dis[now] + 1\n",
    "            \n",
    "print(dis[m])"
   ]
  },
  {
   "cell_type": "code",
   "execution_count": 2,
   "metadata": {},
   "outputs": [
    {
     "name": "stdout",
     "output_type": "stream",
     "text": [
      "3\n"
     ]
    }
   ],
   "source": [
    "# 첫번째는 모방이다 (잘 된것을 내것으로 먼저 만드는게 중요하다)\n",
    "\n",
    "from collections import deque\n",
    "S, E = map(int, input().split()) # 현수 위치, 송아지 위치\n",
    "MAX = 10000\n",
    "\n",
    "# 거리 & 체크하기\n",
    "dis = [0] * (MAX + 1)\n",
    "ch = [0] * (MAX + 1)\n",
    "dis[S] = 0\n",
    "ch[S] = 1\n",
    "\n",
    "dQ = deque()\n",
    "dQ.append(S)\n",
    "\n",
    "while dQ:\n",
    "    now = dQ.popleft()\n",
    "    if now == E:\n",
    "        break\n",
    "    for next in (now+1, now-1, now+5):\n",
    "        if 0 < next and next <= MAX:\n",
    "            if ch[next] != 1:\n",
    "                dQ.append(next)\n",
    "                dis[next] = dis[now] + 1\n",
    "                ch[next] = 1 \n",
    "    \n",
    "print(dis[E])"
   ]
  },
  {
   "cell_type": "code",
   "execution_count": null,
   "metadata": {},
   "outputs": [],
   "source": []
  }
 ],
 "metadata": {
  "kernelspec": {
   "display_name": "Python 3",
   "language": "python",
   "name": "python3"
  },
  "language_info": {
   "codemirror_mode": {
    "name": "ipython",
    "version": 3
   },
   "file_extension": ".py",
   "mimetype": "text/x-python",
   "name": "python",
   "nbconvert_exporter": "python",
   "pygments_lexer": "ipython3",
   "version": "3.11.0"
  },
  "orig_nbformat": 4
 },
 "nbformat": 4,
 "nbformat_minor": 2
}
