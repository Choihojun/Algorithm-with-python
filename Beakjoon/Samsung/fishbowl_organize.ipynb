{
 "cells": [
  {
   "cell_type": "code",
   "execution_count": 1,
   "metadata": {},
   "outputs": [],
   "source": [
    "\n",
    "# Link: https://www.acmicpc.net/problem/23291"
   ]
  },
  {
   "cell_type": "code",
   "execution_count": 9,
   "metadata": {},
   "outputs": [
    {
     "name": "stdout",
     "output_type": "stream",
     "text": [
      "[deque([5, 2, 3, 14, 9, 2, 11, 8])]\n",
      "add fish [deque([5, 3, 3, 14, 9, 3, 11, 8])]\n",
      "stack left bowl [deque([3, 3, 14, 9, 3, 11, 8]), deque([5])]\n",
      "new_bowls [[0, 0], [0, 0], [0, 0], [0, 0], [0, 0], [0, 0], [0, 0]]\n",
      "len(bowls[0]) 7\n"
     ]
    },
    {
     "ename": "IndexError",
     "evalue": "deque index out of range",
     "output_type": "error",
     "traceback": [
      "\u001b[1;31m---------------------------------------------------------------------------\u001b[0m",
      "\u001b[1;31mIndexError\u001b[0m                                Traceback (most recent call last)",
      "Cell \u001b[1;32mIn[9], line 45\u001b[0m\n\u001b[0;32m     43\u001b[0m stack_left_bowl(bowls)\n\u001b[0;32m     44\u001b[0m \u001b[39m#print(bowls)    \u001b[39;00m\n\u001b[1;32m---> 45\u001b[0m new_bowls \u001b[39m=\u001b[39m rotate_90_clockwise(bowls)\n\u001b[0;32m     46\u001b[0m answer \u001b[39m=\u001b[39m \u001b[39m0\u001b[39m\n\u001b[0;32m     47\u001b[0m \u001b[39m\"\"\"\u001b[39;00m\n\u001b[0;32m     48\u001b[0m \u001b[39mwhile True:\u001b[39;00m\n\u001b[0;32m     49\u001b[0m \u001b[39m    result = get_result(bowls)\u001b[39;00m\n\u001b[1;32m   (...)\u001b[0m\n\u001b[0;32m     55\u001b[0m \u001b[39m    bowls = fly_blocks(board)\u001b[39;00m\n\u001b[0;32m     56\u001b[0m \u001b[39m\"\"\"\u001b[39;00m\n",
      "Cell \u001b[1;32mIn[9], line 38\u001b[0m, in \u001b[0;36mrotate_90_clockwise\u001b[1;34m(bowls)\u001b[0m\n\u001b[0;32m     36\u001b[0m \u001b[39mfor\u001b[39;00m i \u001b[39min\u001b[39;00m \u001b[39mrange\u001b[39m(\u001b[39mlen\u001b[39m(bowls[\u001b[39m0\u001b[39m])):\n\u001b[0;32m     37\u001b[0m     \u001b[39mfor\u001b[39;00m j \u001b[39min\u001b[39;00m \u001b[39mrange\u001b[39m(\u001b[39mlen\u001b[39m(bowls)):\n\u001b[1;32m---> 38\u001b[0m         new_bowls[i][j] \u001b[39m=\u001b[39m bowls[j][\u001b[39mlen\u001b[39;49m(bowls[\u001b[39m0\u001b[39;49m])\u001b[39m-\u001b[39;49m\u001b[39m1\u001b[39;49m\u001b[39m-\u001b[39;49mi]\n\u001b[0;32m     40\u001b[0m \u001b[39mreturn\u001b[39;00m new_bowls\n",
      "\u001b[1;31mIndexError\u001b[0m: deque index out of range"
     ]
    }
   ],
   "source": [
    "from collections import deque\n",
    "import sys\n",
    "dx = [-1, 0, 1, 0]\n",
    "dy = [0, 1, 0, -1]\n",
    "\n",
    "N, K = map(int, input().split())\n",
    "tmp = list(map(int, input().split()))\n",
    "bowls = list()\n",
    "bowls.append(deque(tmp))\n",
    "print(bowls)\n",
    "cnt = 0\n",
    "\n",
    "# 기능구현 차례대로 해보자\n",
    "\n",
    "# 제일 물고기가 작은 곳에 1 추가\n",
    "def add_fish(bowls):\n",
    "    min_fish_num = min(bowls[0])\n",
    "    for i in range(len(bowls[0])):\n",
    "        if bowls[0][i] == min_fish_num:\n",
    "            bowls[0][i] = bowls[0][i] + 1\n",
    "    print(\"add fish\", bowls)\n",
    "    \n",
    "# 가장 왼쪽에 어항 쌓기\n",
    "def stack_left_bowl(bowls):\n",
    "    pop = bowls[0].popleft()\n",
    "    bowls.append(deque([pop])) # ???\n",
    "    print(\"stack left bowl\", bowls)\n",
    "\n",
    "# 90도 회전 시키기\n",
    "def rotate_90_clockwise(bowls):\n",
    "    new_bowls = [[0] * len(bowls) for _ in range(len(bowls[0]))]\n",
    "    print(\"new_bowls\", new_bowls)\n",
    "    print(\"len(bowls[0])\", len(bowls[0]))\n",
    "    \n",
    "    \n",
    "    for i in range(len(bowls[0])):\n",
    "        for j in range(len(bowls)):\n",
    "            new_bowls[i][j] = bowls[j][len(bowls[0])-1-i]\n",
    "            \n",
    "    return new_bowls\n",
    "\n",
    "def fly_blocks(board):\n",
    "    \n",
    "\n",
    "\n",
    "add_fish(bowls)\n",
    "stack_left_bowl(bowls)\n",
    "#print(bowls)    \n",
    "new_bowls = rotate_90_clockwise(bowls)\n",
    "answer = 0\n",
    "\"\"\"\n",
    "while True:\n",
    "    result = get_result(bowls)\n",
    "    if result <= K:\n",
    "        print(answer)\n",
    "        break\n",
    "    add_fish(bowls)\n",
    "    stack_left_bowl(bowls)\n",
    "    bowls = fly_blocks(board)\n",
    "\"\"\"\n",
    "\n"
   ]
  },
  {
   "cell_type": "code",
   "execution_count": null,
   "metadata": {},
   "outputs": [],
   "source": []
  }
 ],
 "metadata": {
  "kernelspec": {
   "display_name": "Python 3",
   "language": "python",
   "name": "python3"
  },
  "language_info": {
   "codemirror_mode": {
    "name": "ipython",
    "version": 3
   },
   "file_extension": ".py",
   "mimetype": "text/x-python",
   "name": "python",
   "nbconvert_exporter": "python",
   "pygments_lexer": "ipython3",
   "version": "3.11.0"
  },
  "orig_nbformat": 4
 },
 "nbformat": 4,
 "nbformat_minor": 2
}
