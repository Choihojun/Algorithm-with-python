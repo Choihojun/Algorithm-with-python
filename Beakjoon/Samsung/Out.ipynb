{
 "cells": [
  {
   "cell_type": "code",
   "execution_count": 3,
   "metadata": {},
   "outputs": [
    {
     "name": "stdout",
     "output_type": "stream",
     "text": [
      "[3, 10]\n",
      "[5, 20]\n",
      "[1, 10]\n",
      "[1, 20]\n",
      "[2, 15]\n",
      "[2, 15]\n",
      "[4, 40]\n"
     ]
    },
    {
     "ename": "IndexError",
     "evalue": "list index out of range",
     "output_type": "error",
     "traceback": [
      "\u001b[1;31m---------------------------------------------------------------------------\u001b[0m",
      "\u001b[1;31mIndexError\u001b[0m                                Traceback (most recent call last)",
      "Cell \u001b[1;32mIn[3], line 27\u001b[0m\n\u001b[0;32m     24\u001b[0m     pi\u001b[39m.\u001b[39mappend(tmp[\u001b[39m1\u001b[39m])\n\u001b[0;32m     26\u001b[0m maxi \u001b[39m=\u001b[39m \u001b[39m0\u001b[39m\n\u001b[1;32m---> 27\u001b[0m DFS(\u001b[39m1\u001b[39;49m, \u001b[39m0\u001b[39;49m)\n\u001b[0;32m     28\u001b[0m \u001b[39mprint\u001b[39m(maxi)\n",
      "Cell \u001b[1;32mIn[3], line 11\u001b[0m, in \u001b[0;36mDFS\u001b[1;34m(time, sum)\u001b[0m\n\u001b[0;32m      8\u001b[0m \u001b[39mif\u001b[39;00m time \u001b[39m<\u001b[39m\u001b[39m=\u001b[39m N\u001b[39m+\u001b[39m\u001b[39m1\u001b[39m:\n\u001b[0;32m      9\u001b[0m     maxi \u001b[39m=\u001b[39m \u001b[39mmax\u001b[39m(maxi, \u001b[39msum\u001b[39m)\n\u001b[1;32m---> 11\u001b[0m     DFS(time \u001b[39m+\u001b[39;49m ti[time], \u001b[39msum\u001b[39;49m \u001b[39m+\u001b[39;49m pi[time])\n\u001b[0;32m     12\u001b[0m DFS(time\u001b[39m+\u001b[39m\u001b[39m1\u001b[39m, \u001b[39msum\u001b[39m)\n",
      "Cell \u001b[1;32mIn[3], line 11\u001b[0m, in \u001b[0;36mDFS\u001b[1;34m(time, sum)\u001b[0m\n\u001b[0;32m      8\u001b[0m \u001b[39mif\u001b[39;00m time \u001b[39m<\u001b[39m\u001b[39m=\u001b[39m N\u001b[39m+\u001b[39m\u001b[39m1\u001b[39m:\n\u001b[0;32m      9\u001b[0m     maxi \u001b[39m=\u001b[39m \u001b[39mmax\u001b[39m(maxi, \u001b[39msum\u001b[39m)\n\u001b[1;32m---> 11\u001b[0m     DFS(time \u001b[39m+\u001b[39;49m ti[time], \u001b[39msum\u001b[39;49m \u001b[39m+\u001b[39;49m pi[time])\n\u001b[0;32m     12\u001b[0m DFS(time\u001b[39m+\u001b[39m\u001b[39m1\u001b[39m, \u001b[39msum\u001b[39m)\n",
      "Cell \u001b[1;32mIn[3], line 11\u001b[0m, in \u001b[0;36mDFS\u001b[1;34m(time, sum)\u001b[0m\n\u001b[0;32m      8\u001b[0m \u001b[39mif\u001b[39;00m time \u001b[39m<\u001b[39m\u001b[39m=\u001b[39m N\u001b[39m+\u001b[39m\u001b[39m1\u001b[39m:\n\u001b[0;32m      9\u001b[0m     maxi \u001b[39m=\u001b[39m \u001b[39mmax\u001b[39m(maxi, \u001b[39msum\u001b[39m)\n\u001b[1;32m---> 11\u001b[0m     DFS(time \u001b[39m+\u001b[39;49m ti[time], \u001b[39msum\u001b[39;49m \u001b[39m+\u001b[39;49m pi[time])\n\u001b[0;32m     12\u001b[0m DFS(time\u001b[39m+\u001b[39m\u001b[39m1\u001b[39m, \u001b[39msum\u001b[39m)\n",
      "Cell \u001b[1;32mIn[3], line 12\u001b[0m, in \u001b[0;36mDFS\u001b[1;34m(time, sum)\u001b[0m\n\u001b[0;32m      9\u001b[0m     maxi \u001b[39m=\u001b[39m \u001b[39mmax\u001b[39m(maxi, \u001b[39msum\u001b[39m)\n\u001b[0;32m     11\u001b[0m     DFS(time \u001b[39m+\u001b[39m ti[time], \u001b[39msum\u001b[39m \u001b[39m+\u001b[39m pi[time])\n\u001b[1;32m---> 12\u001b[0m DFS(time\u001b[39m+\u001b[39;49m\u001b[39m1\u001b[39;49m, \u001b[39msum\u001b[39;49m)\n",
      "Cell \u001b[1;32mIn[3], line 11\u001b[0m, in \u001b[0;36mDFS\u001b[1;34m(time, sum)\u001b[0m\n\u001b[0;32m      8\u001b[0m \u001b[39mif\u001b[39;00m time \u001b[39m<\u001b[39m\u001b[39m=\u001b[39m N\u001b[39m+\u001b[39m\u001b[39m1\u001b[39m:\n\u001b[0;32m      9\u001b[0m     maxi \u001b[39m=\u001b[39m \u001b[39mmax\u001b[39m(maxi, \u001b[39msum\u001b[39m)\n\u001b[1;32m---> 11\u001b[0m     DFS(time \u001b[39m+\u001b[39m ti[time], \u001b[39msum\u001b[39m \u001b[39m+\u001b[39m pi[time])\n\u001b[0;32m     12\u001b[0m DFS(time\u001b[39m+\u001b[39m\u001b[39m1\u001b[39m, \u001b[39msum\u001b[39m)\n",
      "\u001b[1;31mIndexError\u001b[0m: list index out of range"
     ]
    }
   ],
   "source": [
    "# Link: https://www.acmicpc.net/problem/14501\n",
    "\n",
    "def DFS(time, sum):\n",
    "    global maxi\n",
    "    if time > N+1:\n",
    "        return\n",
    "\n",
    "    if time <= N+1:\n",
    "        maxi = max(maxi, sum)\n",
    "\n",
    "        DFS(time + ti[time], sum + pi[time])\n",
    "    DFS(time+1, sum)\n",
    "\n",
    "\n",
    "if __name__ == \"__main__\":\n",
    "    N = int(input())\n",
    "\n",
    "    ti = [0]\n",
    "    pi = [0]\n",
    "    for i in range(N):\n",
    "        tmp = list(map(int, input().split()))\n",
    "        print(tmp)\n",
    "        ti.append(tmp[0])\n",
    "        pi.append(tmp[1])\n",
    "\n",
    "    maxi = 0\n",
    "    DFS(1, 0)\n",
    "    print(maxi)\n"
   ]
  },
  {
   "cell_type": "code",
   "execution_count": null,
   "metadata": {},
   "outputs": [],
   "source": []
  }
 ],
 "metadata": {
  "kernelspec": {
   "display_name": "Python 3",
   "language": "python",
   "name": "python3"
  },
  "language_info": {
   "codemirror_mode": {
    "name": "ipython",
    "version": 3
   },
   "file_extension": ".py",
   "mimetype": "text/x-python",
   "name": "python",
   "nbconvert_exporter": "python",
   "pygments_lexer": "ipython3",
   "version": "3.11.0"
  },
  "orig_nbformat": 4,
  "vscode": {
   "interpreter": {
    "hash": "5238573367df39f7286bb46f9ff5f08f63a01a80960060ce41e3c79b190280fa"
   }
  }
 },
 "nbformat": 4,
 "nbformat_minor": 2
}
