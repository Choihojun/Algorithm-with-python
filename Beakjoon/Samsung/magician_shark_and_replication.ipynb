{
 "cells": [
  {
   "cell_type": "code",
   "execution_count": 1,
   "metadata": {},
   "outputs": [],
   "source": [
    "# https://www.acmicpc.net/problem/23290"
   ]
  },
  {
   "cell_type": "code",
   "execution_count": 2,
   "metadata": {},
   "outputs": [],
   "source": [
    "# 8:06 고민 시작\n",
    "# 9:06 고민완료 및 9:36에 피드백 완료 예정"
   ]
  },
  {
   "cell_type": "code",
   "execution_count": null,
   "metadata": {},
   "outputs": [],
   "source": [
    "# 시간 초과 -> 답 참고해서 코드 보완하기\n",
    "\n",
    "dx = [-1, 0, 1, 0]\n",
    "dy = [0, 1, 0, -1]\n",
    "df = [1, 2, 3, 4, 5, 6, 7, 8] # 물고기 방향\n",
    "\n",
    "# 물고기 방향\n",
    "df_x = [-1, -1, 0, 1, 1,  1,  0, -1]\n",
    "df_y = [ 0,  1, 1, 1, 0, -1, -1, -1]\n",
    "\n",
    "\n",
    "\n",
    "# 초기 입력 받기\n",
    "m, s = map(int, input().split()) # 물고기 수, 상어 연습 횟수\n",
    "\n",
    "\n",
    "fish_pos = []\n",
    "fish_head = []\n",
    "\n",
    "for i in range(m):\n",
    "    a, b, c = map(int, input().split())\n",
    "    fish_pos.append([a, b])\n",
    "    fish_head.append(c)\n",
    "\n",
    "shark_pos = list(map(int, input().split()))\n",
    "fish_cnt = 0\n",
    "n = 0\n",
    "\n",
    "# 피냄새\n",
    "blood_gird = [[0] * 4 for _ in range(4)]\n",
    "\n",
    "# --------------------------------------------------------------\n",
    "def blood_shark_check(x, y):\n",
    "    if blood_gird[x][y] == 1:\n",
    "        return -1\n",
    "    if shark_pos[0] == x and shark_pos[1] == y:\n",
    "        return -1\n",
    "    return 1\n",
    "\n",
    "def fish_one_move():\n",
    "    for i in range(len(fish_pos)):\n",
    "        xx = fish_pos[i][0] + df_x[fish_head[i]-1]\n",
    "        yy = fish_pos[i][1] + df_y[fish_head[i]-1]\n",
    "        \n",
    "        if 0 <= xx < 4 and 0 <= yy < 4 and blood_shark_check(xx, yy):\n",
    "            # 위치 업데이트\n",
    "            fish_pos[i][0]\n",
    "        else:\n",
    "            for j in range(8):\n",
    "                \n",
    "\n",
    "# --------------------------------------------------------------\n",
    "\n",
    "while n<s:\n",
    "    \"\"\"\n",
    "    알고리즘 구현\n",
    "    \n",
    "    \"\"\"\n",
    "    \n",
    "    \n",
    "    n = n + 1\n",
    "\n",
    "\n",
    "# 결과 출력\n",
    "print(fish_cnt)"
   ]
  },
  {
   "cell_type": "code",
   "execution_count": 6,
   "metadata": {},
   "outputs": [
    {
     "name": "stdout",
     "output_type": "stream",
     "text": [
      "[[[[], []], [[], []], [[4], []], [[], []]], [[[5], []], [[], []], [[], []], [[1], []]], [[[], []], [[], []], [[], []], [[3], []]], [[[], []], [[], []], [[4], []], [[], []]]]\n"
     ]
    }
   ],
   "source": [
    "dr = [0, 0, -1, -1, -1, 0, 1, 1, 1]\n",
    "dc = [0, -1, -1, 0, 1, 1, 1, 0, -1]\n",
    "\n",
    "def move_fish(s_r, s_c):\n",
    "    global grounds\n",
    "    temp_ground = list()\n",
    "    \n",
    "    for r in range(1,5):\n",
    "        for c in range(1,5):\n",
    "            for d in range(1,9):\n",
    "                if grounds[r][c][d]:\n",
    "                    direction = d\n",
    "                    original_direction = direction\n",
    "                    for _ in range(8):\n",
    "                        cr = r + dr[direction]\n",
    "                        cc = c + dc[direction]\n",
    "                        if 1 <= cr <= 4 and 1 <= cc <= 4 and (cr != s_r and cc != cc) and smell[cr][cc] == 0:\n",
    "                            temp_ground.append([cr, cc, direction, grounds[r][c][d]])\n",
    "                            break\n",
    "                        \n",
    "                        else:\n",
    "                            direction = direction -1\n",
    "                            if direction <= 0:\n",
    "                                direction = direction + 8\n",
    "                                \n",
    "                    else:\n",
    "                        temp_ground.append([r, c, original_direction, grounds[r][c][d]])\n",
    "    \n",
    "    grounds = [[[0] * 9 for _ in range(5)] for _ in range(5)]\n",
    "    for tr, tc, tod, ground in temp_ground:\n",
    "        grounds[tr][tc][tod] += ground\n",
    "    return\n",
    "\n",
    "M, S = map(int, input().split())\n",
    "grounds = [[[0] * 9 for _ in range(5)] for _ in range(5)]\n",
    "smell = [[0] * 5 for _ in range(5)]\n",
    "for _ in range(M):\n",
    "    r, c, d = map(int, input().split())\n",
    "    grounds[r][c][d] += 1\n",
    "\n",
    "shark_r, shark_c = map(int, input().split())\n",
    "\n",
    "for idx in range(1, S + 1):\n",
    "    # 1. 물고기에 복제 마법 시전\n",
    "    copy_fish = [[[0] * 9 for _ in range(5)] for _ in range(5)]\n",
    "    for r in range(1, 5):\n",
    "        for c in range(1, 5):\n",
    "            for i in range(1, 9):\n",
    "                copy_fish[r][c][i] = grounds[r][c][i]\n",
    "    \n",
    "    # 2. 물고기 1칸 이동\n",
    "    move_fish(shark_r, shark_c)\n",
    "    \n",
    "    # 3. 상어 3칸 이동 (물고기를 가장 많이 먹을수있는 방향으로 전진)\n",
    "    choice = list()\n",
    "    maximum = 0\n",
    "    temp_shark_r = 0\n",
    "    temp_shark_c = 0\n",
    "    \n",
    "    temp_grounds_list =[]\n"
   ]
  },
  {
   "cell_type": "code",
   "execution_count": 12,
   "metadata": {},
   "outputs": [
    {
     "name": "stdout",
     "output_type": "stream",
     "text": [
      "<built-in method __sizeof__ of list object at 0x0000028A4EB96BC0>\n"
     ]
    }
   ],
   "source": [
    "A = [[0] * 9 for _ in range(5)"
   ]
  },
  {
   "cell_type": "code",
   "execution_count": null,
   "metadata": {},
   "outputs": [],
   "source": []
  }
 ],
 "metadata": {
  "kernelspec": {
   "display_name": "Python 3",
   "language": "python",
   "name": "python3"
  },
  "language_info": {
   "codemirror_mode": {
    "name": "ipython",
    "version": 3
   },
   "file_extension": ".py",
   "mimetype": "text/x-python",
   "name": "python",
   "nbconvert_exporter": "python",
   "pygments_lexer": "ipython3",
   "version": "3.11.0"
  },
  "orig_nbformat": 4
 },
 "nbformat": 4,
 "nbformat_minor": 2
}
