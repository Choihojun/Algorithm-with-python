{
 "cells": [
  {
   "cell_type": "code",
   "execution_count": null,
   "metadata": {},
   "outputs": [],
   "source": [
    "# Link: https://www.acmicpc.net/problem/14502\n",
    "\n",
    "# 골드 V -> BFS\n",
    "# 벽을 먼저 세운다 \n",
    "# 그다음 바이러스를 퍼뜨려서 개수를 파악한다.\n"
   ]
  },
  {
   "cell_type": "code",
   "execution_count": 10,
   "metadata": {},
   "outputs": [
    {
     "name": "stdout",
     "output_type": "stream",
     "text": [
      "9\n"
     ]
    }
   ],
   "source": [
    "from collections import deque\n",
    "import copy\n",
    "dx = [-1, 0, 1, 0]\n",
    "dy = [0, 1, 0, -1]\n",
    "\n",
    "def spread_virus():\n",
    "    global N, M, maxi\n",
    "    test_map = copy.deepcopy(MAZE)\n",
    "    Q = deque()\n",
    "    for i in range(N):\n",
    "        for j in range(M):\n",
    "            if test_map[i][j] == 2:\n",
    "               Q.append((i,j))\n",
    "               \n",
    "    #print(Q) # 확인완료\n",
    "    while Q:\n",
    "        tmp = Q.popleft()\n",
    "        for i in range(4):\n",
    "            xx = tmp[0] + dx[i]\n",
    "            yy = tmp[1] + dy[i]\n",
    "            if 0<=xx<N and 0<=yy<M and test_map[xx][yy] == 0:\n",
    "                test_map[xx][yy] = 2\n",
    "                Q.append((xx, yy))\n",
    "    \n",
    "    count = 0\n",
    "    for i in range(N):\n",
    "        for j in range(M):\n",
    "            if test_map[i][j] == 0:\n",
    "                count = count + 1\n",
    "    maxi = max(count, maxi)\n",
    "    \n",
    "\n",
    "def make_wall(cnt):\n",
    "    global N, M, MAZE\n",
    "    if cnt == 3:\n",
    "        spread_virus()\n",
    "        return\n",
    "    for i in range(N):\n",
    "        for j in range(M):\n",
    "            if MAZE[i][j] == 0:\n",
    "                MAZE[i][j] = 1\n",
    "                make_wall(cnt + 1)\n",
    "                MAZE[i][j] = 0\n",
    "        \n",
    "if __name__ == \"__main__\":\n",
    "# 입력받기\n",
    "    N, M = map(int, input().split()) # 세로, 가로\n",
    "    \n",
    "    MAZE = [list(map(int, input().split())) for _ in range(N)]\n",
    "    #MAZE = [[2, 0, 0, 0, 1, 1, 0],\n",
    "    #        [0, 0, 1, 0, 1, 2, 0],\n",
    "    #        [0, 1, 1, 0, 1, 0, 0],\n",
    "    #        [0, 1, 0, 0, 0, 0, 0],\n",
    "    #        [0, 0, 0, 0, 0, 1, 1],\n",
    "    #        [0, 1, 0, 0, 0, 0, 0],\n",
    "    #        [0, 1, 0, 0, 0, 0, 0]]\n",
    "    \n",
    "    #dis = [[0] *M for _ in range(N)]\n",
    "    \n",
    "    cnt = 0\n",
    "    maxi = 0\n",
    "    make_wall(cnt)\n",
    "    print(maxi)\n",
    "\n"
   ]
  },
  {
   "cell_type": "code",
   "execution_count": null,
   "metadata": {},
   "outputs": [],
   "source": [
    "# 조합을 이용한 코드 구성하기\n",
    "from itertools import combinations\n",
    "import copy\n",
    "from collections import deque\n",
    "\n",
    "dx = [-1 ,0, 1, 0]\n",
    "dy = [0, 1, 0, -1]\n",
    "def solve(zero_pos):\n",
    "    global wall_number, maze, maxi\n",
    "    for i in combinations(empty, wall_number):\n",
    "        board = copy.deepcopy(maze)\n",
    "        Q = deque()\n",
    "        for x, y in i:\n",
    "            board[x][y] = 1\n",
    "        \n",
    "        for j in range(N):\n",
    "            for k in range(M):\n",
    "                if maze[j][k] == 2:\n",
    "                    Q.append((j,k))\n",
    "        \n",
    "        while Q:\n",
    "            tmp = Q.popleft()\n",
    "            for t in range(4):\n",
    "                xx = tmp[0] + dx[t]\n",
    "                yy = tmp[1] + dy[t]\n",
    "                if 0<=xx<N and 0<=yy<M and board[xx][yy] == 0:\n",
    "                    board[xx][yy] = 2\n",
    "                    Q.append((xx, yy))\n",
    "    \n",
    "        count = 0\n",
    "        for i in range(N):\n",
    "            for j in range(M):\n",
    "                if board[i][j] == 0:\n",
    "                    count = count + 1\n",
    "        maxi = max(count, maxi)\n",
    "                    \n",
    "\n",
    "if __name__ == \"__main__\":\n",
    "    N, M = map(int, input().split())\n",
    "    maze = [list(map(int, input().split())) for _ in range(N)]\n",
    "    wall_number = 3\n",
    "    empty = []\n",
    "    for i in range(N):\n",
    "        for j in range(M):\n",
    "            if maze[i][j] == 0:\n",
    "                empty.append((i,j))\n",
    "    maxi = 0\n",
    "    solve(empty)\n",
    "    print(maxi)\n"
   ]
  },
  {
   "cell_type": "code",
   "execution_count": null,
   "metadata": {},
   "outputs": [],
   "source": []
  }
 ],
 "metadata": {
  "kernelspec": {
   "display_name": "Python 3",
   "language": "python",
   "name": "python3"
  },
  "language_info": {
   "codemirror_mode": {
    "name": "ipython",
    "version": 3
   },
   "file_extension": ".py",
   "mimetype": "text/x-python",
   "name": "python",
   "nbconvert_exporter": "python",
   "pygments_lexer": "ipython3",
   "version": "3.11.0"
  },
  "orig_nbformat": 4,
  "vscode": {
   "interpreter": {
    "hash": "5238573367df39f7286bb46f9ff5f08f63a01a80960060ce41e3c79b190280fa"
   }
  }
 },
 "nbformat": 4,
 "nbformat_minor": 2
}
