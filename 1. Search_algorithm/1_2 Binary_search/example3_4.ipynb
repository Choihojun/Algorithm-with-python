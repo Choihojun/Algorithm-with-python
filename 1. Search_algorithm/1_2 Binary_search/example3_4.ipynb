{
 "cells": [
  {
   "cell_type": "code",
   "execution_count": 1,
   "metadata": {},
   "outputs": [],
   "source": [
    "from typing import Sequence, Any"
   ]
  },
  {
   "cell_type": "code",
   "execution_count": 2,
   "metadata": {},
   "outputs": [],
   "source": [
    "def binary_search(a: Sequence, key: Any):\n",
    "    pl = 0\n",
    "    pr = len(a) -1\n",
    "    while True:\n",
    "        pc = (pl+pr) // 2\n",
    "        if a[pc] == key:\n",
    "            return pc\n",
    "        elif a[pc] < key:\n",
    "            pl = pc + 1\n",
    "        else: \n",
    "            pr = pc -1\n",
    "            \n",
    "        if pl > pr:\n",
    "            break\n",
    "    return -1"
   ]
  },
  {
   "cell_type": "code",
   "execution_count": 3,
   "metadata": {},
   "outputs": [
    {
     "ename": "ValueError",
     "evalue": "invalid literal for int() with base 10: 'Escape'",
     "output_type": "error",
     "traceback": [
      "\u001b[1;31m---------------------------------------------------------------------------\u001b[0m",
      "\u001b[1;31mValueError\u001b[0m                                Traceback (most recent call last)",
      "\u001b[1;32m~\\AppData\\Local\\Temp\\ipykernel_56068\\2993808155.py\u001b[0m in \u001b[0;36m<module>\u001b[1;34m\u001b[0m\n\u001b[0;32m      1\u001b[0m \u001b[1;32mif\u001b[0m \u001b[0m__name__\u001b[0m \u001b[1;33m==\u001b[0m \u001b[1;34m'__main__'\u001b[0m\u001b[1;33m:\u001b[0m\u001b[1;33m\u001b[0m\u001b[1;33m\u001b[0m\u001b[0m\n\u001b[1;32m----> 2\u001b[1;33m     \u001b[0mnum\u001b[0m \u001b[1;33m=\u001b[0m \u001b[0mint\u001b[0m\u001b[1;33m(\u001b[0m\u001b[0minput\u001b[0m\u001b[1;33m(\u001b[0m\u001b[1;34m'원소 수를 입력하세요.: '\u001b[0m\u001b[1;33m)\u001b[0m\u001b[1;33m)\u001b[0m\u001b[1;33m\u001b[0m\u001b[1;33m\u001b[0m\u001b[0m\n\u001b[0m\u001b[0;32m      3\u001b[0m     \u001b[0mx\u001b[0m \u001b[1;33m=\u001b[0m \u001b[1;33m[\u001b[0m\u001b[1;32mNone\u001b[0m\u001b[1;33m]\u001b[0m \u001b[1;33m*\u001b[0m \u001b[0mnum\u001b[0m\u001b[1;33m\u001b[0m\u001b[1;33m\u001b[0m\u001b[0m\n\u001b[0;32m      4\u001b[0m \u001b[1;33m\u001b[0m\u001b[0m\n\u001b[0;32m      5\u001b[0m     \u001b[0mprint\u001b[0m\u001b[1;33m(\u001b[0m\u001b[1;34m'배열의 데이터를 오름 차순으로 입력하세요'\u001b[0m\u001b[1;33m)\u001b[0m\u001b[1;33m\u001b[0m\u001b[1;33m\u001b[0m\u001b[0m\n",
      "\u001b[1;31mValueError\u001b[0m: invalid literal for int() with base 10: 'Escape'"
     ]
    }
   ],
   "source": [
    "if __name__ == '__main__':\n",
    "    num = int(input('원소 수를 입력하세요.: '))\n",
    "    x = [None] * num\n",
    "    \n",
    "    print('배열의 데이터를 오름 차순으로 입력하세요')\n",
    "    \n",
    "    for i in range(1, num):\n",
    "        while True: \n",
    "            x[i] = int(input(f'x[{i}]: '))\n",
    "            if x[i] >= x[i - 1]:\n",
    "                break\n",
    "    ky = int(input('검색할 값을 입력하세요. : '))\n",
    "    \n",
    "    idx = binary_search(x, ky)\n",
    "    if idx == -1:\n",
    "        print('검색하는 값이 배열에 없습니다.')\n",
    "    else: \n",
    "        print(f'검색값은 x[{idx}]에 있습니다')\n",
    "    "
   ]
  },
  {
   "cell_type": "code",
   "execution_count": null,
   "metadata": {},
   "outputs": [],
   "source": []
  }
 ],
 "metadata": {
  "kernelspec": {
   "display_name": "algorithm_practice",
   "language": "python",
   "name": "python3"
  },
  "language_info": {
   "codemirror_mode": {
    "name": "ipython",
    "version": 3
   },
   "file_extension": ".py",
   "mimetype": "text/x-python",
   "name": "python",
   "nbconvert_exporter": "python",
   "pygments_lexer": "ipython3",
   "version": "3.7.12"
  },
  "orig_nbformat": 4,
  "vscode": {
   "interpreter": {
    "hash": "e0e14e5f616a294e6ff8f636e6a75ad8b46e7f6f42748f79abaa9faa0c7a351a"
   }
  }
 },
 "nbformat": 4,
 "nbformat_minor": 2
}
