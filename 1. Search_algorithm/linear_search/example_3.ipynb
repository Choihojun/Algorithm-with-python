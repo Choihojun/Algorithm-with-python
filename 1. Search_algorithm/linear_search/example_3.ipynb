{
 "cells": [
  {
   "cell_type": "code",
   "execution_count": 1,
   "metadata": {},
   "outputs": [],
   "source": [
    "\"\"\"보초법 예제\"\"\"\n",
    "from typing import Any, Sequence\n",
    "import copy"
   ]
  },
  {
   "cell_type": "code",
   "execution_count": 2,
   "metadata": {},
   "outputs": [],
   "source": [
    "def seq_search(seq: Sequence, key: Any) -> int:\n",
    "    \"\"\" 시퀀스 seq에서 key와 일치하는 원소를 선형 검색 (보초법)\"\"\"\n",
    "    a = copy.deepcopy(seq) #seq를 복사 \n",
    "    a.append(key) \n",
    "    \n",
    "    i=0\n",
    "    while True:\n",
    "        if a[i] == key:\n",
    "            break\n",
    "        else:\n",
    "            i += 1\n",
    "    return -1 if i == len(seq) else i"
   ]
  },
  {
   "cell_type": "code",
   "execution_count": 4,
   "metadata": {},
   "outputs": [
    {
     "name": "stdout",
     "output_type": "stream",
     "text": [
      "검색한 값은 x[1]에 있습니다\n"
     ]
    }
   ],
   "source": [
    "if __name__ == '__main__':\n",
    "    num = int(input('원소 수를 입력하세요.: ')) #num값을 입력\n",
    "    x = [None] * num\n",
    "    \n",
    "    for i in range(len(x)):\n",
    "        x[i] = int(input(f'x[{i}]: '))\n",
    "        \n",
    "    ky = int(input('검색할 값을 입력하세요: '))\n",
    "    \n",
    "    idx = seq_search(x, ky)\n",
    "    \n",
    "    if idx == -1:\n",
    "        print(\"찾는 검색값을 가진 원소가 없습니다\")\n",
    "        \n",
    "    else: \n",
    "        print(f'검색한 값은 x[{idx}]에 있습니다')"
   ]
  },
  {
   "cell_type": "code",
   "execution_count": null,
   "metadata": {},
   "outputs": [],
   "source": []
  }
 ],
 "metadata": {
  "kernelspec": {
   "display_name": "algorithm_practice",
   "language": "python",
   "name": "python3"
  },
  "language_info": {
   "codemirror_mode": {
    "name": "ipython",
    "version": 3
   },
   "file_extension": ".py",
   "mimetype": "text/x-python",
   "name": "python",
   "nbconvert_exporter": "python",
   "pygments_lexer": "ipython3",
   "version": "3.7.12"
  },
  "orig_nbformat": 4,
  "vscode": {
   "interpreter": {
    "hash": "e0e14e5f616a294e6ff8f636e6a75ad8b46e7f6f42748f79abaa9faa0c7a351a"
   }
  }
 },
 "nbformat": 4,
 "nbformat_minor": 2
}
