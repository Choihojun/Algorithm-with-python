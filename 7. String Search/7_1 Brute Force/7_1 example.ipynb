{
 "cells": [
  {
   "cell_type": "code",
   "execution_count": 6,
   "metadata": {},
   "outputs": [
    {
     "name": "stdout",
     "output_type": "stream",
     "text": [
      "3번째 문자가 일치합니다.\n"
     ]
    }
   ],
   "source": [
    "def bf_match(txt: str, pat: str)-> int:\n",
    "    \n",
    "    pt = 0 # 텍스트를 따라가는 커서\n",
    "    pp = 0 # 패턴을 따라가는 커서\n",
    "    \n",
    "    while pt != len(txt) and pp != len(pat):\n",
    "        if txt[pt] == pat[pp]:\n",
    "            pt = pt + 1\n",
    "            pp = pp + 1\n",
    "        else:\n",
    "            pt = pt - pp + 1\n",
    "            pp = 0\n",
    "            \n",
    "    return pt - pp if pp == len(pat) else -1\n",
    "\n",
    "if __name__ == '__main__':\n",
    "    s1 = input('텍스트를 입력하세요: ')\n",
    "    s2 = input('패턴을 입력하세요: ')\n",
    "    \n",
    "    idx = bf_match(s1, s2)\n",
    "    \n",
    "    if idx == -1:\n",
    "        print('텍스트 안에 패턴이 존재하지 않습니다')\n",
    "    else:\n",
    "        print(f'{(idx + 1)}번째 문자가 일치합니다.')"
   ]
  },
  {
   "cell_type": "code",
   "execution_count": 12,
   "metadata": {},
   "outputs": [
    {
     "name": "stdout",
     "output_type": "stream",
     "text": [
      "패턴은 3에 있습니다\n"
     ]
    }
   ],
   "source": [
    "# 직접 구현해보기\n",
    "\n",
    "def bf_match3(txt: str, pat: str)-> int:\n",
    "    tc = 0 # 텍스트 커서\n",
    "    pc = 0 # 패턴 커서\n",
    "    \n",
    "    while tc != len(txt) and pc != len(pat):\n",
    "        if txt[tc] == pat[pc]:\n",
    "            tc = tc + 1\n",
    "            pc = pc + 1\n",
    "            \n",
    "        else:\n",
    "            tc = tc - pc + 1\n",
    "            pc = 0\n",
    "            \n",
    "    if pc == len(pat):\n",
    "        return tc - pc\n",
    "    else:\n",
    "        return -1\n",
    "        \n",
    "if __name__ == \"__main__\":\n",
    "    text = input('텍스트를 입력해주세요: ')\n",
    "    patt = input('패턴을 입력해주세요: ')\n",
    "    \n",
    "    idx = bf_match3(text, patt)\n",
    "    \n",
    "    if idx == -1:\n",
    "        print('일치하는 패턴이 없습니다')\n",
    "    else:\n",
    "        print(f'패턴은 {(idx+1)}에 있습니다')"
   ]
  },
  {
   "cell_type": "code",
   "execution_count": null,
   "metadata": {},
   "outputs": [],
   "source": []
  }
 ],
 "metadata": {
  "kernelspec": {
   "display_name": "algorithm_practice",
   "language": "python",
   "name": "python3"
  },
  "language_info": {
   "codemirror_mode": {
    "name": "ipython",
    "version": 3
   },
   "file_extension": ".py",
   "mimetype": "text/x-python",
   "name": "python",
   "nbconvert_exporter": "python",
   "pygments_lexer": "ipython3",
   "version": "3.7.12"
  },
  "orig_nbformat": 4,
  "vscode": {
   "interpreter": {
    "hash": "e0e14e5f616a294e6ff8f636e6a75ad8b46e7f6f42748f79abaa9faa0c7a351a"
   }
  }
 },
 "nbformat": 4,
 "nbformat_minor": 2
}
