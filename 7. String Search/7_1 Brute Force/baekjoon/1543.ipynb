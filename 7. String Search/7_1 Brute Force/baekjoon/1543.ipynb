{
 "cells": [
  {
   "cell_type": "code",
   "execution_count": null,
   "metadata": {},
   "outputs": [],
   "source": [
    "# 1543 - 문서 검색 문제 (실버 4)\n",
    "\n",
    "# Link: https://www.acmicpc.net/problem/1543\n"
   ]
  },
  {
   "attachments": {},
   "cell_type": "markdown",
   "metadata": {},
   "source": [
    "중복되지 않도록 검색을 수행해야만 함\n",
    "\n"
   ]
  },
  {
   "cell_type": "code",
   "execution_count": 25,
   "metadata": {},
   "outputs": [
    {
     "name": "stdout",
     "output_type": "stream",
     "text": [
      "3\n",
      "6\n",
      "2\n"
     ]
    }
   ],
   "source": [
    "def search(txt: str, patt: str)->int:\n",
    "    tc = 0 # 텍스트 커서\n",
    "    pc = 0 # 패턴 커서\n",
    "    count = 0\n",
    "    #while tc != len(txt) and pc != len(patt):\n",
    "    while tc != len(txt):\n",
    "        if txt[tc] == patt[pc]:\n",
    "            tc = tc + 1\n",
    "            pc = pc + 1\n",
    "        else:\n",
    "            tc = tc - pc + 1\n",
    "            pc = 0\n",
    "            print(tc)\n",
    "                    \n",
    "        if pc == len(patt):\n",
    "            count = count + 1\n",
    "            pc = 0\n",
    "         \n",
    "    return count\n",
    "\n",
    "if __name__=='__main__':\n",
    "    text = str(input())\n",
    "    patt = str(input())\n",
    "\n",
    "    count = search(text, patt)\n",
    "    print(count)"
   ]
  },
  {
   "cell_type": "code",
   "execution_count": 9,
   "metadata": {},
   "outputs": [
    {
     "name": "stdout",
     "output_type": "stream",
     "text": [
      "b\n"
     ]
    }
   ],
   "source": [
    "abc = 'abc'\n",
    "print(abc[1])"
   ]
  },
  {
   "cell_type": "code",
   "execution_count": null,
   "metadata": {},
   "outputs": [],
   "source": []
  }
 ],
 "metadata": {
  "kernelspec": {
   "display_name": "Python 3",
   "language": "python",
   "name": "python3"
  },
  "language_info": {
   "codemirror_mode": {
    "name": "ipython",
    "version": 3
   },
   "file_extension": ".py",
   "mimetype": "text/x-python",
   "name": "python",
   "nbconvert_exporter": "python",
   "pygments_lexer": "ipython3",
   "version": "3.11.0"
  },
  "orig_nbformat": 4,
  "vscode": {
   "interpreter": {
    "hash": "5238573367df39f7286bb46f9ff5f08f63a01a80960060ce41e3c79b190280fa"
   }
  }
 },
 "nbformat": 4,
 "nbformat_minor": 2
}
