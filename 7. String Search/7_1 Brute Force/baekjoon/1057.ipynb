{
 "cells": [
  {
   "cell_type": "code",
   "execution_count": null,
   "metadata": {},
   "outputs": [],
   "source": [
    "# 1057 - 토너먼트 문제 \n",
    "\n",
    "# Link: https://www.acmicpc.net/problem/1057\n"
   ]
  },
  {
   "attachments": {},
   "cell_type": "markdown",
   "metadata": {},
   "source": [
    "어떻게 접근하는지에 대해서 생각을 해보자\n",
    "\n",
    "짝수명일경우 8명 \n",
    "\n",
    "1, 2, 3, 4, 5, 6, 7, 8 -> 1, 2, 3, 4 -> 1, 2 -> 1\n",
    "\n",
    "그룹이 있어야함\n",
    "\n",
    "홀수 명일경우 7명 \n",
    "\n",
    "1, 2, 3, 4, 5, 6, 7 -> 1, 2, 3, 4 -> 1, 2 -> 1\n",
    "\n",
    "value = value - value//2 (핵심적인 코드임)\n",
    "\n",
    "1, 2가 들어가면 value는 항상 1이 나오게 됨. 마찬가지로 3과 4가 들어가면 2가 항상 들어오게 됨"
   ]
  },
  {
   "cell_type": "code",
   "execution_count": 3,
   "metadata": {},
   "outputs": [
    {
     "name": "stdout",
     "output_type": "stream",
     "text": [
      "4\n"
     ]
    }
   ],
   "source": [
    "if __name__ == '__main__':\n",
    "    n, kim, im = map(int, input().split())\n",
    "    count = 0\n",
    "    while kim != im:\n",
    "        kim = kim - kim//2\n",
    "        im = im - im//2\n",
    "        count = count + 1\n",
    "        \n",
    "    print(count)"
   ]
  },
  {
   "cell_type": "code",
   "execution_count": null,
   "metadata": {},
   "outputs": [],
   "source": []
  }
 ],
 "metadata": {
  "kernelspec": {
   "display_name": "Python 3",
   "language": "python",
   "name": "python3"
  },
  "language_info": {
   "codemirror_mode": {
    "name": "ipython",
    "version": 3
   },
   "file_extension": ".py",
   "mimetype": "text/x-python",
   "name": "python",
   "nbconvert_exporter": "python",
   "pygments_lexer": "ipython3",
   "version": "3.11.0"
  },
  "orig_nbformat": 4,
  "vscode": {
   "interpreter": {
    "hash": "5238573367df39f7286bb46f9ff5f08f63a01a80960060ce41e3c79b190280fa"
   }
  }
 },
 "nbformat": 4,
 "nbformat_minor": 2
}
