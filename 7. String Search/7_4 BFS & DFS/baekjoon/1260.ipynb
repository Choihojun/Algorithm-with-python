{
 "cells": [
  {
   "cell_type": "code",
   "execution_count": null,
   "metadata": {},
   "outputs": [],
   "source": [
    "# Link: https://www.acmicpc.net/problem/1260"
   ]
  },
  {
   "cell_type": "code",
   "execution_count": null,
   "metadata": {},
   "outputs": [],
   "source": [
    "# 문제: 그래프를 DFS로 탐색한 결과와 BFS로 탐색한 결과를 출력하는 프로그램을 작성하시오. 단, 방문할 수 있는 정점이 여러 개인 경우에는 정점 번호가 작은 것을 먼저 방문하고, 더 이상 방문할 수 있는 점이 없는 경우 종료한다. 정점 번호는 1번부터 N번까지이다. "
   ]
  },
  {
   "cell_type": "code",
   "execution_count": 2,
   "metadata": {},
   "outputs": [
    {
     "name": "stdout",
     "output_type": "stream",
     "text": [
      "[<map object at 0x000001CCB52A3A60>]\n",
      "[<map object at 0x000001CCB52A3160>]\n",
      "[<map object at 0x000001CCB52A31F0>]\n",
      "[<map object at 0x000001CCB52A3550>]\n",
      "[<map object at 0x000001CCB52A3520>]\n",
      "[[<map object at 0x000001CCB52A3A60>], [<map object at 0x000001CCB52A3160>], [<map object at 0x000001CCB52A31F0>], [<map object at 0x000001CCB52A3550>], [<map object at 0x000001CCB52A3520>]]\n"
     ]
    }
   ],
   "source": [
    "from collections import deque\n",
    "\n",
    "def bfs():\n",
    "    return 0\n",
    "    \n",
    "    \n",
    "if __name__ == '__main__':\n",
    "    node_num, branch_num, start = map(int, input().split())\n",
    "    \n",
    "    graph = []\n",
    "    \n",
    "    for i in range(branch_num):\n",
    "        temp = [map(int, input().split())]\n",
    "        print(temp)\n",
    "        graph.append(temp)\n",
    "        \n",
    "    print(graph)"
   ]
  },
  {
   "cell_type": "code",
   "execution_count": null,
   "metadata": {},
   "outputs": [],
   "source": []
  }
 ],
 "metadata": {
  "kernelspec": {
   "display_name": "Python 3",
   "language": "python",
   "name": "python3"
  },
  "language_info": {
   "codemirror_mode": {
    "name": "ipython",
    "version": 3
   },
   "file_extension": ".py",
   "mimetype": "text/x-python",
   "name": "python",
   "nbconvert_exporter": "python",
   "pygments_lexer": "ipython3",
   "version": "3.11.0"
  },
  "orig_nbformat": 4,
  "vscode": {
   "interpreter": {
    "hash": "5238573367df39f7286bb46f9ff5f08f63a01a80960060ce41e3c79b190280fa"
   }
  }
 },
 "nbformat": 4,
 "nbformat_minor": 2
}
