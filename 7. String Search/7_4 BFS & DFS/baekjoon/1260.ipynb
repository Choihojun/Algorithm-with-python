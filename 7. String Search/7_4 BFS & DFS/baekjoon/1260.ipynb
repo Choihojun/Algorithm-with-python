{
 "cells": [
  {
   "cell_type": "code",
   "execution_count": null,
   "metadata": {},
   "outputs": [],
   "source": [
    "# Link: https://www.acmicpc.net/problem/1260"
   ]
  },
  {
   "cell_type": "code",
   "execution_count": null,
   "metadata": {},
   "outputs": [],
   "source": [
    "# 문제: 그래프를 DFS로 탐색한 결과와 BFS로 탐색한 결과를 출력하는 프로그램을 작성하시오. 단, 방문할 수 있는 정점이 여러 개인 경우에는 정점 번호가 작은 것을 먼저 방문하고, 더 이상 방문할 수 있는 점이 없는 경우 종료한다. 정점 번호는 1번부터 N번까지이다. "
   ]
  },
  {
   "cell_type": "code",
   "execution_count": 21,
   "metadata": {},
   "outputs": [],
   "source": [
    "from collections import deque"
   ]
  },
  {
   "cell_type": "code",
   "execution_count": 27,
   "metadata": {},
   "outputs": [],
   "source": [
    "# bfs code\n",
    "def bfs (graph, node, visited):\n",
    "    queue = deque([node])\n",
    "    visited[node] = True\n",
    "    checked_list = list()\n",
    "    \n",
    "    while queue:\n",
    "        checked = queue.popleft()\n",
    "        #print(checked, end = ' ')\n",
    "        checked_list.append(checked)\n",
    "        for i in graph[checked]:\n",
    "            if not (visited[i]):\n",
    "                queue.append(i)\n",
    "                visited[i] = True\n",
    "    return checked_list"
   ]
  },
  {
   "cell_type": "code",
   "execution_count": null,
   "metadata": {},
   "outputs": [],
   "source": [
    "def dfs (graph, start_node, visited):\n",
    "    need_visited = list()\n",
    "    \n",
    "    need_visited.append(start_node)\n",
    "    \n",
    "    while need_visited:\n",
    "        node = need_visited.pop()\n",
    "        \n",
    "        if node not in visited:\n",
    " \n",
    "            ## 방문한 목록에 추가하기 \n",
    "            visited.append(node)\n",
    "            print(node, end = ' ')\n",
    "            ## 그 노드에 연결된 노드를 \n",
    "            need_visited.extend(graph[node])"
   ]
  },
  {
   "cell_type": "code",
   "execution_count": null,
   "metadata": {},
   "outputs": [],
   "source": [
    "\n",
    "\n",
    "\n",
    "def dfs(graph, node, visited):\n",
    "    visited[node] = True\n",
    "    \n",
    "    print(node, end = ' ')\n",
    "    for i in graph[node]:\n",
    "        if not (visited[i]):\n",
    "            dfs (graph, i, visited)\n",
    "\n",
    "def dfs_renew(graph, start_node, visited):\n",
    "    need_visited = list()\n",
    "    \n",
    "    need_visited.append(start_node)\n",
    "    \n",
    "    while need_visited:\n",
    "        node = need_visited.pop()\n",
    "        \n",
    "        if node not in visited:\n",
    " \n",
    "            ## 방문한 목록에 추가하기 \n",
    "            visited.append(node)\n",
    "            print(node, end = ' ')\n",
    "            ## 그 노드에 연결된 노드를 \n",
    "            need_visited.extend(graph[node])\n",
    "            \n",
    "def dfs2(graph, start_node):\n",
    "    ## deque 패키지 불러오기\n",
    "    from collections import deque\n",
    "    visited = []\n",
    "    need_visited = deque()\n",
    "    \n",
    "    ##시작 노드 설정해주기\n",
    "    need_visited.append(start_node)\n",
    "    \n",
    "    ## 방문이 필요한 리스트가 아직 존재한다면\n",
    "    while need_visited:\n",
    "        ## 시작 노드를 지정하고\n",
    "        node = need_visited.pop()\n",
    " \n",
    "        ##만약 방문한 리스트에 없다면\n",
    "        if node not in visited:\n",
    " \n",
    "            ## 방문 리스트에 노드를 추가\n",
    "            visited.append(node)\n",
    "            ## 인접 노드들을 방문 예정 리스트에 추가\n",
    "            need_visited.extend(graph[node])\n",
    "                \n",
    "    #return visited            \n",
    "    "
   ]
  },
  {
   "cell_type": "code",
   "execution_count": 28,
   "metadata": {},
   "outputs": [
    {
     "name": "stdout",
     "output_type": "stream",
     "text": [
      "\n",
      "\n",
      "[1, 2, 3, 4]\n"
     ]
    }
   ],
   "source": [
    "\n",
    "\n",
    "if __name__ == '__main__':\n",
    "    node_num, branch_num, start = map(int, input().split())\n",
    "    \n",
    "    graph = [[]]\n",
    "    \n",
    "    for i in range(branch_num):\n",
    "        temp = [*map(int, input().split())]\n",
    "        graph.append(temp)\n",
    "    \n",
    "    visited = [False] * branch_num\n",
    "    visited_dfs = visited\n",
    "    visited_bfs = visited\n",
    "    \n",
    "    graph_bfs = graph\n",
    "    graph_dfs = graph\n",
    "    #dfs_renew(graph_dfs, start, visited)\n",
    "    print('\\n')\n",
    "    result_bfs = bfs(graph_bfs, start, visited_bfs)\n",
    "    print(result_bfs)"
   ]
  },
  {
   "cell_type": "code",
   "execution_count": null,
   "metadata": {},
   "outputs": [],
   "source": []
  }
 ],
 "metadata": {
  "kernelspec": {
   "display_name": "Python 3",
   "language": "python",
   "name": "python3"
  },
  "language_info": {
   "codemirror_mode": {
    "name": "ipython",
    "version": 3
   },
   "file_extension": ".py",
   "mimetype": "text/x-python",
   "name": "python",
   "nbconvert_exporter": "python",
   "pygments_lexer": "ipython3",
   "version": "3.11.0"
  },
  "orig_nbformat": 4,
  "vscode": {
   "interpreter": {
    "hash": "5238573367df39f7286bb46f9ff5f08f63a01a80960060ce41e3c79b190280fa"
   }
  }
 },
 "nbformat": 4,
 "nbformat_minor": 2
}
