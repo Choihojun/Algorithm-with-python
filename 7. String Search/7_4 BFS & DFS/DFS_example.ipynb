{
 "cells": [
  {
   "cell_type": "code",
   "execution_count": null,
   "metadata": {},
   "outputs": [],
   "source": [
    "# Link: https://heytech.tistory.com/55"
   ]
  },
  {
   "cell_type": "code",
   "execution_count": 1,
   "metadata": {},
   "outputs": [],
   "source": [
    "def dfs (graph, node, visited):\n",
    "    visited[node] = True\n",
    "    \n",
    "    print(node, end = ' ')\n",
    "    \n",
    "    for i in graph[node]:\n",
    "        if not (visited[i]):\n",
    "            dfs (graph, i, visited)"
   ]
  },
  {
   "cell_type": "code",
   "execution_count": 2,
   "metadata": {},
   "outputs": [
    {
     "name": "stdout",
     "output_type": "stream",
     "text": [
      "1 2 4 5 3 6 "
     ]
    }
   ],
   "source": [
    "graph = [\n",
    "    [],\n",
    "    [2, 3],\n",
    "    [1, 4, 5],\n",
    "    [1, 6],\n",
    "    [2, 5],\n",
    "    [2, 4],\n",
    "    [3]\n",
    "]\n",
    "\n",
    "visited = [False] * 7\n",
    "dfs(graph, 1, visited)\n"
   ]
  },
  {
   "cell_type": "code",
   "execution_count": null,
   "metadata": {},
   "outputs": [],
   "source": []
  }
 ],
 "metadata": {
  "kernelspec": {
   "display_name": "Python 3",
   "language": "python",
   "name": "python3"
  },
  "language_info": {
   "codemirror_mode": {
    "name": "ipython",
    "version": 3
   },
   "file_extension": ".py",
   "mimetype": "text/x-python",
   "name": "python",
   "nbconvert_exporter": "python",
   "pygments_lexer": "ipython3",
   "version": "3.11.0"
  },
  "orig_nbformat": 4,
  "vscode": {
   "interpreter": {
    "hash": "5238573367df39f7286bb46f9ff5f08f63a01a80960060ce41e3c79b190280fa"
   }
  }
 },
 "nbformat": 4,
 "nbformat_minor": 2
}
