{
 "cells": [
  {
   "cell_type": "code",
   "execution_count": 1,
   "metadata": {},
   "outputs": [],
   "source": [
    "# Link: https://heytech.tistory.com/56"
   ]
  },
  {
   "cell_type": "code",
   "execution_count": 1,
   "metadata": {},
   "outputs": [],
   "source": [
    "# 먼저 collections 모듈에서 deque 라이브러리 불러오기\n",
    "from collections import deque"
   ]
  },
  {
   "cell_type": "code",
   "execution_count": 14,
   "metadata": {},
   "outputs": [],
   "source": [
    "# BFS 함수 제작하기\n",
    "def bfs (graph, node, visited):\n",
    "    # deque 라이브러리 활용\n",
    "    queue = deque([node])\n",
    "    \n",
    "    # 현재 노드 방문 처리\n",
    "    visited[node] = True\n",
    "    \n",
    "    # 큐에 아무것도 남지 않도록 반복 수행\n",
    "    while queue:\n",
    "        # 큐에 삽입된 순서대로 노드 꺼내기\n",
    "        checked = queue.popleft()\n",
    "        \n",
    "        # 탐색 순서 출력하기\n",
    "        print(checked, end = ' ')\n",
    "        \n",
    "        # 처리 중인 노드에서 방문하지 않은 인접 노드를 모두 큐에 삽입\n",
    "        for i in graph[checked]:\n",
    "            if not (visited[i]):\n",
    "                queue.append(i)\n",
    "                visited[i] = True        "
   ]
  },
  {
   "cell_type": "code",
   "execution_count": 16,
   "metadata": {},
   "outputs": [
    {
     "name": "stdout",
     "output_type": "stream",
     "text": [
      "1 2 3 "
     ]
    },
    {
     "ename": "IndexError",
     "evalue": "list index out of range",
     "output_type": "error",
     "traceback": [
      "\u001b[1;31m---------------------------------------------------------------------------\u001b[0m",
      "\u001b[1;31mIndexError\u001b[0m                                Traceback (most recent call last)",
      "Cell \u001b[1;32mIn[16], line 27\u001b[0m\n\u001b[0;32m     12\u001b[0m \u001b[39m\"\"\"\u001b[39;00m\n\u001b[0;32m     13\u001b[0m \u001b[39mgraph = [\u001b[39;00m\n\u001b[0;32m     14\u001b[0m \u001b[39m    [],\u001b[39;00m\n\u001b[1;32m   (...)\u001b[0m\n\u001b[0;32m     23\u001b[0m \u001b[39m]\u001b[39;00m\n\u001b[0;32m     24\u001b[0m \u001b[39m\"\"\"\u001b[39;00m\n\u001b[0;32m     26\u001b[0m visited \u001b[39m=\u001b[39m [\u001b[39mFalse\u001b[39;00m] \u001b[39m*\u001b[39m \u001b[39m6\u001b[39m\n\u001b[1;32m---> 27\u001b[0m bfs(graph, \u001b[39m1\u001b[39;49m, visited)\n\u001b[0;32m     29\u001b[0m \u001b[39m#노드 간의 연결 정보는 위와 같이 2차원 배열을 통해 표현할 수 있습니다. 즉, 리스트 내 인덱스는 노드 번호를 의미하고 각 인덱스에 해당하는 원소에 해당 노드에 인접한 노드 번호가 담겨 있습니다.\u001b[39;00m\n",
      "Cell \u001b[1;32mIn[14], line 19\u001b[0m, in \u001b[0;36mbfs\u001b[1;34m(graph, node, visited)\u001b[0m\n\u001b[0;32m     17\u001b[0m \u001b[39m# 처리 중인 노드에서 방문하지 않은 인접 노드를 모두 큐에 삽입\u001b[39;00m\n\u001b[0;32m     18\u001b[0m \u001b[39mfor\u001b[39;00m i \u001b[39min\u001b[39;00m graph[checked]:\n\u001b[1;32m---> 19\u001b[0m     \u001b[39mif\u001b[39;00m \u001b[39mnot\u001b[39;00m (visited[i]):\n\u001b[0;32m     20\u001b[0m         queue\u001b[39m.\u001b[39mappend(i)\n\u001b[0;32m     21\u001b[0m         visited[i] \u001b[39m=\u001b[39m \u001b[39mTrue\u001b[39;00m\n",
      "\u001b[1;31mIndexError\u001b[0m: list index out of range"
     ]
    }
   ],
   "source": [
    "#\n",
    "\n",
    "graph = [\n",
    "    [],\n",
    "    [2, 3],\n",
    "    [1, 4, 5],\n",
    "    [1, 6],\n",
    "    [2, 5],\n",
    "    [2, 4],\n",
    "    [3]\n",
    "]\n",
    "\"\"\"\n",
    "graph = [\n",
    "    [],\n",
    "    [2, 3],\n",
    "    [1, 8],\n",
    "    [1, 4, 5],\n",
    "    [3, 5],\n",
    "    [3, 4],\n",
    "    [7, 8],\n",
    "    [6, 8],\n",
    "    [2, 6, 7]\n",
    "]\n",
    "\"\"\"\n",
    "\n",
    "visited = [False] * 7\n",
    "bfs(graph, 1, visited)\n",
    "\n",
    "#노드 간의 연결 정보는 위와 같이 2차원 배열을 통해 표현할 수 있습니다. 즉, 리스트 내 인덱스는 노드 번호를 의미하고 각 인덱스에 해당하는 원소에 해당 노드에 인접한 노드 번호가 담겨 있습니다.\n"
   ]
  },
  {
   "cell_type": "code",
   "execution_count": null,
   "metadata": {},
   "outputs": [],
   "source": []
  }
 ],
 "metadata": {
  "kernelspec": {
   "display_name": "Python 3",
   "language": "python",
   "name": "python3"
  },
  "language_info": {
   "codemirror_mode": {
    "name": "ipython",
    "version": 3
   },
   "file_extension": ".py",
   "mimetype": "text/x-python",
   "name": "python",
   "nbconvert_exporter": "python",
   "pygments_lexer": "ipython3",
   "version": "3.11.0"
  },
  "orig_nbformat": 4,
  "vscode": {
   "interpreter": {
    "hash": "5238573367df39f7286bb46f9ff5f08f63a01a80960060ce41e3c79b190280fa"
   }
  }
 },
 "nbformat": 4,
 "nbformat_minor": 2
}
