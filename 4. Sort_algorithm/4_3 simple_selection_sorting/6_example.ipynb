{
 "cells": [
  {
   "cell_type": "code",
   "execution_count": 3,
   "metadata": {},
   "outputs": [
    {
     "name": "stdout",
     "output_type": "stream",
     "text": [
      "1\n",
      "3\n",
      "4\n",
      "6\n",
      "8\n"
     ]
    }
   ],
   "source": [
    "# 직접 구현\n",
    "from typing import MutableSequence\n",
    "\n",
    "def simple_sort(a: MutableSequence) -> None:\n",
    "    num = len(a)\n",
    "        \n",
    "    for i in range(num-1):\n",
    "        min_index = a.index(min(a[i:num]))\n",
    "        a[i], a[min_index] = a[min_index], a[i]\n",
    "        \n",
    "num = int(input())\n",
    "x = num * [None]\n",
    "\n",
    "for i in range(num):\n",
    "    x[i] = int(input())\n",
    "\n",
    "simple_sort(x)\n",
    "\n",
    "for i in range(num):\n",
    "    print(x[i])"
   ]
  },
  {
   "cell_type": "code",
   "execution_count": null,
   "metadata": {},
   "outputs": [],
   "source": [
    "# 단순 선택 정렬 알고리즘 구현하기 (책내용)\n",
    "\n",
    "from typing import MutableSequence\n",
    "\n",
    "def selection_sort(a: MutableSequence) -> None:\n",
    "    n = len(a)\n",
    "    for i in range(n-1):\n",
    "        min = i\n",
    "        for j in range(i+1, n):\n",
    "            if a[j] < a[min]:\n",
    "                min = j\n",
    "        a[i], a[min] = a[min], a[i]\n"
   ]
  }
 ],
 "metadata": {
  "kernelspec": {
   "display_name": "Python 3",
   "language": "python",
   "name": "python3"
  },
  "language_info": {
   "codemirror_mode": {
    "name": "ipython",
    "version": 3
   },
   "file_extension": ".py",
   "mimetype": "text/x-python",
   "name": "python",
   "nbconvert_exporter": "python",
   "pygments_lexer": "ipython3",
   "version": "3.11.0"
  },
  "orig_nbformat": 4,
  "vscode": {
   "interpreter": {
    "hash": "5238573367df39f7286bb46f9ff5f08f63a01a80960060ce41e3c79b190280fa"
   }
  }
 },
 "nbformat": 4,
 "nbformat_minor": 2
}
