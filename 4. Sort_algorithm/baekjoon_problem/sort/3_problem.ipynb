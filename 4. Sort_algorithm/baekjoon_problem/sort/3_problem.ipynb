{
 "cells": [
  {
   "cell_type": "code",
   "execution_count": null,
   "metadata": {},
   "outputs": [],
   "source": [
    "# 수 정렬하기 2\n",
    "# 정답률: 30.632% =\n",
    "\n",
    "# 문제: N개의 수가 주어졌을 때, 이를 오름차순으로 정렬하는 프로그램을 작성하시오\n",
    "\n",
    "# 입력: 첫째 줄에 수의 개수 N(1 ≤ N ≤ 1,000,000)이 주어진다. 둘째 줄부터 N개의 줄에는 수가 주어진다. 이 수는 절댓값이 1,000,000보다 작거나 같은 정수이다. 수는 중복되지 않는다.\n",
    "\n",
    "# 출력: 첫째 줄부터 N개의 줄에 오름차순으로 정렬한 결과를 한줄에 하나씩 출력한다.\n",
    "\n",
    "# 예제 입력 및 출력\n",
    "# 5, 5, 4, 3, 2, 1 -> 1,2,3,4,5 (중복 제거됨) \n",
    "\n",
    "# 풀수있는 방법\n",
    "# 병합, 퀵으로 접근 가능"
   ]
  },
  {
   "cell_type": "code",
   "execution_count": 3,
   "metadata": {},
   "outputs": [
    {
     "name": "stdout",
     "output_type": "stream",
     "text": [
      "1\n",
      "2\n",
      "3\n",
      "4\n",
      "5\n"
     ]
    }
   ],
   "source": [
    "from typing import MutableSequence\n",
    "\n",
    "def sort_func(a: MutableSequence):\n",
    "    a = list(set(a))\n",
    "    num = len(a)\n",
    "    \n",
    "    for i in range(num-1):\n",
    "        min_index = a.index(min(a[i:num]))\n",
    "        a[i], a[min_index] = a[min_index], a[i]\n",
    "\n",
    "    return a\n",
    "        \n",
    "num = 6\n",
    "x = num * [None]\n",
    "\n",
    "for i in range(num):\n",
    "    x[i] = int(input())\n",
    "    \n",
    "new_x = sort_func(x)\n",
    "\n",
    "print(new_x)\n",
    "#for i in range(len(new_x)):\n",
    "#    print(new_x[i])   "
   ]
  },
  {
   "cell_type": "code",
   "execution_count": null,
   "metadata": {},
   "outputs": [],
   "source": []
  }
 ],
 "metadata": {
  "kernelspec": {
   "display_name": "algorithm_practice",
   "language": "python",
   "name": "python3"
  },
  "language_info": {
   "codemirror_mode": {
    "name": "ipython",
    "version": 3
   },
   "file_extension": ".py",
   "mimetype": "text/x-python",
   "name": "python",
   "nbconvert_exporter": "python",
   "pygments_lexer": "ipython3",
   "version": "3.7.12"
  },
  "orig_nbformat": 4,
  "vscode": {
   "interpreter": {
    "hash": "e0e14e5f616a294e6ff8f636e6a75ad8b46e7f6f42748f79abaa9faa0c7a351a"
   }
  }
 },
 "nbformat": 4,
 "nbformat_minor": 2
}
