{
 "cells": [
  {
   "cell_type": "code",
   "execution_count": 1,
   "metadata": {},
   "outputs": [],
   "source": [
    "# 수 정렬하기\n",
    "# N개의 수가 주어졌을 때, 이를 오름차순으로 정렬하는 프로그램을 작성하시오"
   ]
  },
  {
   "cell_type": "code",
   "execution_count": null,
   "metadata": {},
   "outputs": [],
   "source": [
    "from typing import MutableSequence # 가변 시퀀스\n",
    "\n",
    "# 버블 정렬 함수\n",
    "def bubble_sort(a: MutableSequence)-> None:\n",
    "    n = len(a)\n",
    "    for i in range(n-1):\n",
    "        for j in range(n-1, i, -1):\n",
    "            if a[j-1] > a[j]:\n",
    "                a[j-1], a[j] = a[j], a[j-1]    \n",
    "# 입력: 첫째줄에 수의 개수가 주어짐\n",
    "num = int(input())\n",
    "x = num*[None]\n",
    "\n",
    "for i in range(num):\n",
    "    x[i] = int(input())\n",
    "\n",
    "bubble_sort(x)\n",
    "\n",
    "# 출력: 첫째 줄부터 N개의 줄에 오름차순으로 정렬한 결과를 한 줄에 하나씩 출력한다. \n",
    "for i in range(num):\n",
    "    print(x[i])\n",
    "    \n",
    "\n",
    "    "
   ]
  },
  {
   "cell_type": "code",
   "execution_count": 1,
   "metadata": {},
   "outputs": [],
   "source": [
    "# 다른 답안\n",
    "\n",
    "import sys\n",
    "b = input()\n",
    "a = list(map(int, sys.stdin.read().split()))\n",
    "print(a)\n",
    "a.sort()\n",
    "for i in a:\n",
    "    print(i)"
   ]
  },
  {
   "cell_type": "code",
   "execution_count": null,
   "metadata": {},
   "outputs": [],
   "source": [
    "# 다시 구현해보기 \n",
    "\n",
    "from typing import MutableSequence\n",
    "\n",
    "def bubble_sort(a: MutableSequence) -> None:\n",
    "    num = len(a)\n",
    "    for i in range(num-1):\n",
    "        for j in range(num-1,i,-1):\n",
    "            if a[j-1] > a[j]:\n",
    "                a[j-1], a[j] = a[j], a[j-1]\n",
    "        \n",
    "num = int(input())\n",
    "x = num * [None]\n",
    "\n",
    "for i in range(num):\n",
    "    x[i] = int(input())\n",
    "    \n",
    "bubble_sort(x)\n",
    "\n",
    "for i in range(num):\n",
    "    print(x[i])"
   ]
  }
 ],
 "metadata": {
  "kernelspec": {
   "display_name": "algorithm_practice",
   "language": "python",
   "name": "python3"
  },
  "language_info": {
   "codemirror_mode": {
    "name": "ipython",
    "version": 3
   },
   "file_extension": ".py",
   "mimetype": "text/x-python",
   "name": "python",
   "nbconvert_exporter": "python",
   "pygments_lexer": "ipython3",
   "version": "3.7.12"
  },
  "orig_nbformat": 4,
  "vscode": {
   "interpreter": {
    "hash": "e0e14e5f616a294e6ff8f636e6a75ad8b46e7f6f42748f79abaa9faa0c7a351a"
   }
  }
 },
 "nbformat": 4,
 "nbformat_minor": 2
}
