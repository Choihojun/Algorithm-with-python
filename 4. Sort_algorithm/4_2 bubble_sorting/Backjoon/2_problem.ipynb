{
 "cells": [
  {
   "cell_type": "code",
   "execution_count": null,
   "metadata": {},
   "outputs": [],
   "source": [
    "# 대표값2\n",
    "\n",
    "# 입력: 첫째 줄부터 다섯 번째 줄까지 한 줄에 하나씩 자연수가 주어진다. 주어지는 자연수는 100 보다 작은 10의 배수이다.\n",
    "# 출력: 첫째 줄에는 평균을 출력하고, 둘째 줄에는 중앙값을 출력한다. 평균과 중앙값은 모두 자연수이다.\n",
    "\n"
   ]
  },
  {
   "cell_type": "code",
   "execution_count": 14,
   "metadata": {},
   "outputs": [
    {
     "name": "stdout",
     "output_type": "stream",
     "text": [
      "3\n",
      "3\n"
     ]
    }
   ],
   "source": [
    "from typing import MutableSequence\n",
    "import math\n",
    "\n",
    "def bubble_sort(a: MutableSequence) -> None:\n",
    "    num = len(a)\n",
    "    \n",
    "    for i in range(num-1):\n",
    "        for j in range(num-1,i,-1):\n",
    "            if a[j-1]>a[j]:\n",
    "                a[j-1], a[j] = a[j], a[j-1]\n",
    "    \n",
    "num = 5\n",
    "x = [None] * num\n",
    "\n",
    "for i in range(num):\n",
    "    x[i] = int(input())\n",
    "    \n",
    "bubble_sort(x)\n",
    "\n",
    "avg = int(sum(x)/num)\n",
    "middle = int(num/2)\n",
    "middle = x[middle] \n",
    "print(avg)\n",
    "print(middle)\n",
    "    "
   ]
  },
  {
   "cell_type": "code",
   "execution_count": 11,
   "metadata": {},
   "outputs": [
    {
     "name": "stdout",
     "output_type": "stream",
     "text": [
      "2\n",
      "3\n",
      "7\n"
     ]
    }
   ],
   "source": [
    "import math\n",
    "x = [1,2,3]\n",
    "print(x[1])\n",
    "print(math.ceil(2.5))\n",
    "print(int(15/2))"
   ]
  },
  {
   "cell_type": "code",
   "execution_count": null,
   "metadata": {},
   "outputs": [],
   "source": []
  }
 ],
 "metadata": {
  "kernelspec": {
   "display_name": "algorithm_practice",
   "language": "python",
   "name": "python3"
  },
  "language_info": {
   "codemirror_mode": {
    "name": "ipython",
    "version": 3
   },
   "file_extension": ".py",
   "mimetype": "text/x-python",
   "name": "python",
   "nbconvert_exporter": "python",
   "pygments_lexer": "ipython3",
   "version": "3.7.12"
  },
  "orig_nbformat": 4,
  "vscode": {
   "interpreter": {
    "hash": "e0e14e5f616a294e6ff8f636e6a75ad8b46e7f6f42748f79abaa9faa0c7a351a"
   }
  }
 },
 "nbformat": 4,
 "nbformat_minor": 2
}
