{
 "cells": [
  {
   "cell_type": "code",
   "execution_count": 1,
   "metadata": {},
   "outputs": [],
   "source": [
    "from typing import MutableSequence"
   ]
  },
  {
   "cell_type": "code",
   "execution_count": 7,
   "metadata": {},
   "outputs": [
    {
     "name": "stdout",
     "output_type": "stream",
     "text": [
      "단순 삽입 정렬을 수행합니다\n",
      "오름차순 정렬\n",
      "x[0] = 1\n",
      "x[1] = 2\n",
      "x[2] = 3\n",
      "x[3] = 4\n",
      "x[4] = 5\n"
     ]
    }
   ],
   "source": [
    "def insertion_sort(a: MutableSequence)->None:\n",
    "    num = len(a)\n",
    "    for i in range(1, num):\n",
    "        j = i\n",
    "        tmp = a[i]\n",
    "        while j > 0 and a[j-1] > tmp:\n",
    "            a[j] = a[j-1]\n",
    "            j -= 1\n",
    "        a[j] = tmp\n",
    "        \n",
    "if __name__ == '__main__':\n",
    "    print('단순 삽입 정렬을 수행합니다')\n",
    "    num = int(input())\n",
    "    x = [None] * num\n",
    "    \n",
    "    for i in range(num):\n",
    "        x[i] = int(input(f'x[{i}]: '))\n",
    "        \n",
    "    insertion_sort(x)\n",
    "\n",
    "    print('오름차순 정렬')\n",
    "    for i in range(num):\n",
    "        print(f'x[{i}] = {x[i]}')    \n",
    "        \n",
    "        \n",
    "        \n",
    "    "
   ]
  },
  {
   "cell_type": "code",
   "execution_count": 6,
   "metadata": {},
   "outputs": [
    {
     "name": "stdout",
     "output_type": "stream",
     "text": [
      "2\n",
      "3\n",
      "4\n",
      "6\n"
     ]
    }
   ],
   "source": [
    "# 직접 구현해보기\n",
    "a = [1,2,3,4,6]\n",
    "for i in range(1, 5):\n",
    "    print(a[i])"
   ]
  },
  {
   "cell_type": "code",
   "execution_count": 10,
   "metadata": {},
   "outputs": [
    {
     "ename": "ValueError",
     "evalue": "invalid literal for int() with base 10: ''",
     "output_type": "error",
     "traceback": [
      "\u001b[1;31m---------------------------------------------------------------------------\u001b[0m",
      "\u001b[1;31mValueError\u001b[0m                                Traceback (most recent call last)",
      "\u001b[1;32m~\\AppData\\Local\\Temp\\ipykernel_29224\\3839508818.py\u001b[0m in \u001b[0;36m<module>\u001b[1;34m\u001b[0m\n\u001b[0;32m     12\u001b[0m \u001b[1;33m\u001b[0m\u001b[0m\n\u001b[0;32m     13\u001b[0m \u001b[1;32mif\u001b[0m \u001b[0m__name__\u001b[0m \u001b[1;33m==\u001b[0m \u001b[1;34m'__main__'\u001b[0m\u001b[1;33m:\u001b[0m\u001b[1;33m\u001b[0m\u001b[1;33m\u001b[0m\u001b[0m\n\u001b[1;32m---> 14\u001b[1;33m     \u001b[0mnum\u001b[0m \u001b[1;33m=\u001b[0m \u001b[0mint\u001b[0m\u001b[1;33m(\u001b[0m\u001b[0minput\u001b[0m\u001b[1;33m(\u001b[0m\u001b[1;33m)\u001b[0m\u001b[1;33m)\u001b[0m\u001b[1;33m\u001b[0m\u001b[1;33m\u001b[0m\u001b[0m\n\u001b[0m\u001b[0;32m     15\u001b[0m \u001b[1;33m\u001b[0m\u001b[0m\n\u001b[0;32m     16\u001b[0m     \u001b[0mx\u001b[0m \u001b[1;33m=\u001b[0m \u001b[0mnum\u001b[0m \u001b[1;33m*\u001b[0m \u001b[1;33m[\u001b[0m\u001b[1;32mNone\u001b[0m\u001b[1;33m]\u001b[0m\u001b[1;33m\u001b[0m\u001b[1;33m\u001b[0m\u001b[0m\n",
      "\u001b[1;31mValueError\u001b[0m: invalid literal for int() with base 10: ''"
     ]
    }
   ],
   "source": [
    "from typing import MutableSequence\n",
    "\n",
    "def insert_sort(a: MutableSequence) -> None:\n",
    "    n = len(a)\n",
    "    for i in range(1, n):\n",
    "        j = i    \n",
    "        tmp = a[i]\n",
    "        while j > 0 and a[j-1] > tmp:\n",
    "            a[j] = a[j-1]\n",
    "            j -= 1\n",
    "        a[j] = tmp\n",
    "\n",
    "if __name__ == '__main__':\n",
    "    num = int(input())\n",
    "    \n",
    "    x = num * [None]\n",
    "    for i in range(num):\n",
    "        x[i] = int(input())\n",
    "        \n",
    "    insert_sort(x)\n",
    "    \n",
    "    for i in range(num):\n",
    "        print(x[i])    \n",
    "    "
   ]
  },
  {
   "cell_type": "code",
   "execution_count": null,
   "metadata": {},
   "outputs": [],
   "source": []
  }
 ],
 "metadata": {
  "kernelspec": {
   "display_name": "algorithm_practice",
   "language": "python",
   "name": "python3"
  },
  "language_info": {
   "codemirror_mode": {
    "name": "ipython",
    "version": 3
   },
   "file_extension": ".py",
   "mimetype": "text/x-python",
   "name": "python",
   "nbconvert_exporter": "python",
   "pygments_lexer": "ipython3",
   "version": "3.7.12"
  },
  "orig_nbformat": 4,
  "vscode": {
   "interpreter": {
    "hash": "e0e14e5f616a294e6ff8f636e6a75ad8b46e7f6f42748f79abaa9faa0c7a351a"
   }
  }
 },
 "nbformat": 4,
 "nbformat_minor": 2
}
