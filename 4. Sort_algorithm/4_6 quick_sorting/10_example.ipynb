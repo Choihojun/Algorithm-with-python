{
 "cells": [
  {
   "cell_type": "code",
   "execution_count": 1,
   "metadata": {},
   "outputs": [
    {
     "name": "stdout",
     "output_type": "stream",
     "text": [
      "배열을 나눕니다\n",
      "피벗은 5입니다\n",
      "피벗 이하인 그룹입니다.\n",
      "1 3 2 4 5\n",
      "피벗과 일치하는 그룹입니다\n",
      "5\n"
     ]
    }
   ],
   "source": [
    "from typing import MutableSequence\n",
    "\n",
    "def partition(a: MutableSequence) -> None:\n",
    "    \n",
    "    n = len(a)\n",
    "    pl = 0\n",
    "    pr = n - 1\n",
    "    x = a[n // 2]\n",
    "    \n",
    "    while pl <= pr: \n",
    "        while a[pl] < x: pl += 1\n",
    "        while a[pr] > x: pr -= 1\n",
    "        if pl <= pr:\n",
    "            a[pl], a[pr] = a[pr], a[pl]\n",
    "            pl += 1\n",
    "            pr -= 1\n",
    "    \n",
    "    #if left < pr: qsort(a, left, pr)\n",
    "    \n",
    "    print(f'피벗은 {x}입니다')\n",
    "    print('피벗 이하인 그룹입니다.')\n",
    "    \n",
    "    print(*a[0 : pl])\n",
    "    \n",
    "    if pl > pr + 1:\n",
    "        print('피벗과 일치하는 그룹입니다')\n",
    "        print(*a[pr + 1 : pl])\n",
    "\n",
    "if __name__ == '__main__':\n",
    "    # 사랑하는 사람과 더 즐기고 삶을 더 경험할 시간이 얼마 남지 않았다.\n",
    "    print('배열을 나눕니다')\n",
    "    num = int(input('원소 수를 입력하세요: '))\n",
    "    x = [None] * num\n",
    "    \n",
    "    for i in range(num):\n",
    "        x[i] = int(input(f'x[{i}]: '))\n",
    "    \n",
    "    partition(x)\n",
    "\n",
    "                \n",
    "            \n"
   ]
  },
  {
   "cell_type": "code",
   "execution_count": null,
   "metadata": {},
   "outputs": [],
   "source": []
  }
 ],
 "metadata": {
  "kernelspec": {
   "display_name": "algorithm_practice",
   "language": "python",
   "name": "python3"
  },
  "language_info": {
   "codemirror_mode": {
    "name": "ipython",
    "version": 3
   },
   "file_extension": ".py",
   "mimetype": "text/x-python",
   "name": "python",
   "nbconvert_exporter": "python",
   "pygments_lexer": "ipython3",
   "version": "3.7.12"
  },
  "orig_nbformat": 4,
  "vscode": {
   "interpreter": {
    "hash": "e0e14e5f616a294e6ff8f636e6a75ad8b46e7f6f42748f79abaa9faa0c7a351a"
   }
  }
 },
 "nbformat": 4,
 "nbformat_minor": 2
}
