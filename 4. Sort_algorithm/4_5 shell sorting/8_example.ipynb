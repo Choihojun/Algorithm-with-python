{
 "cells": [
  {
   "cell_type": "code",
   "execution_count": 6,
   "metadata": {},
   "outputs": [
    {
     "name": "stdout",
     "output_type": "stream",
     "text": [
      "셀 정렬을 수행합니다\n",
      "h:  4\n",
      "4\n",
      "[8, 1, 4, 2, 8, 6, 3, 5]\n",
      "5\n",
      "6\n",
      "[7, 1, 4, 2, 8, 6, 4, 5]\n",
      "7\n",
      "h:  2\n",
      "2\n",
      "[7, 1, 7, 2, 8, 6, 4, 5]\n",
      "3\n",
      "4\n",
      "5\n",
      "6\n",
      "[3, 1, 7, 2, 8, 6, 8, 5]\n",
      "[3, 1, 7, 2, 7, 6, 8, 5]\n",
      "7\n",
      "[3, 1, 4, 2, 7, 6, 8, 6]\n",
      "h:  1\n",
      "1\n",
      "[3, 3, 4, 2, 7, 5, 8, 6]\n",
      "2\n",
      "3\n",
      "[1, 3, 4, 4, 7, 5, 8, 6]\n",
      "[1, 3, 3, 4, 7, 5, 8, 6]\n",
      "4\n",
      "5\n",
      "[1, 2, 3, 4, 7, 7, 8, 6]\n",
      "6\n",
      "7\n",
      "[1, 2, 3, 4, 5, 7, 8, 8]\n",
      "[1, 2, 3, 4, 5, 7, 7, 8]\n",
      "x[0]: 1\n",
      "x[1]: 2\n",
      "x[2]: 3\n",
      "x[3]: 4\n",
      "x[4]: 5\n",
      "x[5]: 6\n",
      "x[6]: 7\n",
      "x[7]: 8\n"
     ]
    }
   ],
   "source": [
    "from typing import MutableSequence\n",
    "\n",
    "def shell_sort(a: MutableSequence) -> None:\n",
    "    \n",
    "    n = len(a)\n",
    "    h = n // 2\n",
    "    while h > 0:\n",
    "        print(\"h: \",h) \n",
    "        for i in range(h, n):\n",
    "            print(i)\n",
    "            j = i - h\n",
    "            tmp = a[i]\n",
    "            while j>= 0 and a[j] > tmp:\n",
    "                a[j + h] = a[j]\n",
    "                j -= h\n",
    "                print(a)\n",
    "            a[j + h] = tmp\n",
    "        #print(a)\n",
    "        h //= 2\n",
    "        \n",
    "if __name__ == '__main__':\n",
    "    print('셀 정렬을 수행합니다')\n",
    "    num = int(input('원소 수를 입력하세요: '))\n",
    "    x = [None] * num\n",
    "    \n",
    "    for i in range(num):\n",
    "        x[i] = int(input(f'x[{i}]: '))\n",
    "        \n",
    "    shell_sort(x)\n",
    "    \n",
    "    for i in range(num):\n",
    "        print(f'x[{i}]: {x[i]}')\n",
    "    "
   ]
  },
  {
   "cell_type": "code",
   "execution_count": 3,
   "metadata": {},
   "outputs": [
    {
     "name": "stdout",
     "output_type": "stream",
     "text": [
      "4\n",
      "-4\n"
     ]
    }
   ],
   "source": [
    "n = 8\n",
    "h = n // 2\n",
    "print(h)\n",
    "\n",
    "j = 0\n",
    "j -= h\n",
    "print(j)"
   ]
  },
  {
   "cell_type": "code",
   "execution_count": null,
   "metadata": {},
   "outputs": [],
   "source": []
  }
 ],
 "metadata": {
  "kernelspec": {
   "display_name": "algorithm_practice",
   "language": "python",
   "name": "python3"
  },
  "language_info": {
   "codemirror_mode": {
    "name": "ipython",
    "version": 3
   },
   "file_extension": ".py",
   "mimetype": "text/x-python",
   "name": "python",
   "nbconvert_exporter": "python",
   "pygments_lexer": "ipython3",
   "version": "3.7.12"
  },
  "orig_nbformat": 4,
  "vscode": {
   "interpreter": {
    "hash": "e0e14e5f616a294e6ff8f636e6a75ad8b46e7f6f42748f79abaa9faa0c7a351a"
   }
  }
 },
 "nbformat": 4,
 "nbformat_minor": 2
}
