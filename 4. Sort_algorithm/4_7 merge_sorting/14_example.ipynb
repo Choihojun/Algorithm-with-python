{
 "cells": [
  {
   "cell_type": "code",
   "execution_count": 1,
   "metadata": {},
   "outputs": [
    {
     "name": "stdout",
     "output_type": "stream",
     "text": [
      "정렬을 마친 두 배열의 병합을 수행합니다\n",
      "배열 a와 b를 병합하여 배열 c에 저장했습니다\n",
      "배열 a: [2, 4, 6, 8, 11, 13]\n",
      "배열 b: [1, 2, 3, 4, 9, 16, 21]\n",
      "배열 c: [1, 2, 2, 3, 4, 4, 6, 8, 9, 11, 13, 16, 21]\n"
     ]
    }
   ],
   "source": [
    "# 해당 코드는 a와 b 배열이 정렬이 완료된 상태일때 a와 b를 합쳐서 c를 만드는 알고리즘임\n",
    "\n",
    "from typing import Sequence, MutableSequence\n",
    "\n",
    "def merge_sorted_list(a: Sequence, b: Sequence, c: MutableSequence)-> None:\n",
    "    pa, pb, pc = 0, 0, 0\n",
    "    na, nb, nc = len(a), len(b), len(c)\n",
    "\n",
    "    while pa < na and pb < nb:\n",
    "        if a[pa] <= b[pb]:\n",
    "            c[pc] = a[pa]\n",
    "            pa += 1\n",
    "        else:\n",
    "            c[pc] = b[pb]\n",
    "            pb += 1\n",
    "        pc += 1\n",
    "    \n",
    "    while pa < na:\n",
    "        c[pc] = a[pa]\n",
    "        pa += 1\n",
    "        pc += 1\n",
    "        \n",
    "    while pb < nb:\n",
    "        c[pc] = b[pb]\n",
    "        pb += 1\n",
    "        pc += 1\n",
    "\n",
    "if __name__=='__main__':\n",
    "    a = [2, 4, 6, 8, 11, 13]\n",
    "    b = [1, 2, 3, 4, 9, 16, 21]\n",
    "    c = [None] * (len(a) + len(b))\n",
    "    print('정렬을 마친 두 배열의 병합을 수행합니다')\n",
    "    \n",
    "    merge_sorted_list(a,b,c)\n",
    "    \n",
    "    print('배열 a와 b를 병합하여 배열 c에 저장했습니다')\n",
    "    print(f'배열 a: {a}')\n",
    "    print(f'배열 b: {b}')\n",
    "    print(f'배열 c: {c}')\n",
    "        \n",
    "        \n",
    "        \n",
    "        \n",
    "        \n",
    "        \n",
    "              "
   ]
  },
  {
   "cell_type": "code",
   "execution_count": 2,
   "metadata": {},
   "outputs": [],
   "source": [
    "# sorted()함수로 병합 정렬 해보기\n",
    "# sorted()함수는 파이썬에서 제공해주는 함수이다"
   ]
  },
  {
   "cell_type": "code",
   "execution_count": 3,
   "metadata": {},
   "outputs": [
    {
     "name": "stdout",
     "output_type": "stream",
     "text": [
      "[1, 2, 2, 3, 4, 4, 6, 8, 9, 11, 13, 16, 21]\n"
     ]
    }
   ],
   "source": [
    "import heapq\n",
    "\n",
    "a = [2, 4, 6, 8, 11, 13]\n",
    "b = [1, 2, 3, 4, 9, 16, 21]\n",
    "c = list(heapq.merge(a, b))\n",
    "\n",
    "print(c)"
   ]
  },
  {
   "cell_type": "code",
   "execution_count": null,
   "metadata": {},
   "outputs": [],
   "source": [
    "# 나눠진 배열이 아직 정렬 되지 않았을때 각각을 분할 정복법에 관련한 알고리즘을 제작해보자 \n",
    "\n",
    "# 병합"
   ]
  }
 ],
 "metadata": {
  "kernelspec": {
   "display_name": "algorithm_practice",
   "language": "python",
   "name": "python3"
  },
  "language_info": {
   "codemirror_mode": {
    "name": "ipython",
    "version": 3
   },
   "file_extension": ".py",
   "mimetype": "text/x-python",
   "name": "python",
   "nbconvert_exporter": "python",
   "pygments_lexer": "ipython3",
   "version": "3.7.12"
  },
  "orig_nbformat": 4,
  "vscode": {
   "interpreter": {
    "hash": "e0e14e5f616a294e6ff8f636e6a75ad8b46e7f6f42748f79abaa9faa0c7a351a"
   }
  }
 },
 "nbformat": 4,
 "nbformat_minor": 2
}
