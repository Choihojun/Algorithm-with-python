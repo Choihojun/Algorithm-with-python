{
 "cells": [
  {
   "cell_type": "code",
   "execution_count": 2,
   "metadata": {},
   "outputs": [
    {
     "name": "stdout",
     "output_type": "stream",
     "text": [
      "10\n",
      "1\n",
      "1\n",
      "2\n",
      "2\n",
      "3\n",
      "3\n",
      "4\n",
      "5\n",
      "5\n",
      "7\n"
     ]
    }
   ],
   "source": [
    "from typing import MutableSequence\n",
    "\n",
    "def merge_sort(a: MutableSequence) -> None:\n",
    "    \n",
    "    def _merge_sort(a: MutableSequence, left: int, right: int)-> None: \n",
    "        \n",
    "        if left < right:\n",
    "            center = (left + right) // 2\n",
    "            \n",
    "            _merge_sort(a, left, center)\n",
    "            _merge_sort(a, center + 1, right)\n",
    "            \n",
    "            p = j = 0\n",
    "            i = k = left\n",
    "            \n",
    "            while i <= center:\n",
    "                buff[p] = a[i]\n",
    "                p += 1\n",
    "                i += 1\n",
    "                \n",
    "            while i<= right and j < p:\n",
    "                if buff[j] <= a[i]:\n",
    "                    a[k] = buff[j]\n",
    "                    j += 1\n",
    "                else:\n",
    "                    a[k] = a[i]\n",
    "                    i += 1\n",
    "                k += 1\n",
    "                \n",
    "                \n",
    "            while j<p:\n",
    "                a[k] = buff[j]\n",
    "                k += 1\n",
    "                j += 1    \n",
    "                \n",
    "    n = len(a)\n",
    "    buff = [None] * n\n",
    "    _merge_sort(a, 0, n-1)\n",
    "    del buff\n",
    "    \n",
    "if __name__ == '__main__':\n",
    "    num = int(input())\n",
    "    print(num)\n",
    "    x = [None] * num\n",
    "    \n",
    "    for i in range(num):\n",
    "        x[i] = int(input(f'x[{i}]: '))\n",
    "        \n",
    "    merge_sort(x)\n",
    "    \n",
    "    for i in range(num):\n",
    "        print(f'{x[i]}')"
   ]
  },
  {
   "cell_type": "code",
   "execution_count": 6,
   "metadata": {},
   "outputs": [
    {
     "name": "stdout",
     "output_type": "stream",
     "text": [
      "10\n",
      "5\n",
      "2\n",
      "3\n",
      "1\n",
      "4\n",
      "2\n",
      "3\n",
      "5\n",
      "1\n",
      "7\n",
      "1\n",
      "1\n",
      "2\n",
      "2\n",
      "3\n",
      "3\n",
      "4\n"
     ]
    }
   ],
   "source": [
    "num = int(input())\n",
    "print(num)\n",
    "x = [None] * num\n",
    "\n",
    "for i in range(num):\n",
    "    x[i] = int(input())\n",
    "    print(x[i])\n",
    "\n",
    "arr = x\n",
    "count = [0] * (max(arr) + 1)\n",
    "\n",
    "for num in arr:\n",
    "    count[num] += 1\n",
    "    \n",
    "for i in range(1, len(count)):\n",
    "    count[i] += count[i-1]\n",
    "\n",
    "result = [0] * (len(arr))\n",
    "\n",
    "for num in arr:\n",
    "    idx = count[num]\n",
    "    result[idx - 1] = num\n",
    "    count[num] -= 1\n",
    "\n",
    "for i in range(num):\n",
    "    print(result[i])\n"
   ]
  },
  {
   "cell_type": "code",
   "execution_count": null,
   "metadata": {},
   "outputs": [],
   "source": []
  }
 ],
 "metadata": {
  "kernelspec": {
   "display_name": "Python 3",
   "language": "python",
   "name": "python3"
  },
  "language_info": {
   "codemirror_mode": {
    "name": "ipython",
    "version": 3
   },
   "file_extension": ".py",
   "mimetype": "text/x-python",
   "name": "python",
   "nbconvert_exporter": "python",
   "pygments_lexer": "ipython3",
   "version": "3.11.0"
  },
  "orig_nbformat": 4,
  "vscode": {
   "interpreter": {
    "hash": "5238573367df39f7286bb46f9ff5f08f63a01a80960060ce41e3c79b190280fa"
   }
  }
 },
 "nbformat": 4,
 "nbformat_minor": 2
}
